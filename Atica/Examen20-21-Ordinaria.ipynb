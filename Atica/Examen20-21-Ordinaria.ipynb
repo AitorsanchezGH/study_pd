{
 "cells": [
  {
   "cell_type": "markdown",
   "metadata": {},
   "source": [
    "# Programación declarativa @ URJC\n",
    "# Programación funcional\n",
    "## Examen Convocatoria Ordinaria (3 de febrero de 2021)\n",
    "## Curso 20-21"
   ]
  },
  {
   "cell_type": "markdown",
   "metadata": {},
   "source": [
    "# Definiciones auxiliares"
   ]
  },
  {
   "cell_type": "code",
   "execution_count": 2,
   "metadata": {},
   "outputs": [
    {
     "data": {
      "text/plain": [
       "\u001b[32mimport \u001b[39m\u001b[36m$ivy.$                               \n",
       "\u001b[39m\n",
       "\u001b[32mimport \u001b[39m\u001b[36morg.scalatest._\u001b[39m"
      ]
     },
     "execution_count": 2,
     "metadata": {},
     "output_type": "execute_result"
    }
   ],
   "source": [
    "import $ivy.`org.scalatest::scalatest:3.0.8`\n",
    "import org.scalatest._"
   ]
  },
  {
   "cell_type": "markdown",
   "metadata": {},
   "source": [
    "### Algunas funciones sobre tipos estándar de la librería de Scala"
   ]
  },
  {
   "cell_type": "code",
   "execution_count": 2,
   "metadata": {},
   "outputs": [
    {
     "data": {
      "text/plain": [
       "defined \u001b[32mobject\u001b[39m \u001b[36mSignatures\u001b[39m"
      ]
     },
     "execution_count": 2,
     "metadata": {},
     "output_type": "execute_result"
    }
   ],
   "source": [
    "object Signatures{\n",
    "    abstract class List[A]{\n",
    "        \n",
    "        // Common HOFs\n",
    "        def foldRight[B](directSol: B)(composeSol: (A, B) => B): B\n",
    "        def foldLeft[B](initial: B)(update: (B, A) => B): B\n",
    "        def map[B](f: A => B): List[B]\n",
    "        def flatMap[B](f: A => List[B]): List[B]\n",
    "        def filter(f: A => Boolean): List[A]\n",
    "        def forall(pred: A => Boolean): Boolean\n",
    "        def exists(pred: A => Boolean): Boolean\n",
    "        \n",
    "        // Reverse a list\n",
    "        // e.g. List(1,2,3).reverse==List(3,2,1)\n",
    "        def reverse: List[A]\n",
    "        \n",
    "        // Take the first `n` elements of the list\n",
    "        // e.g. List(1,2,3).take(2) == List(1,2)\n",
    "        //      List(1,2,3).take(0) == List()\n",
    "        //      List(1,2,3).take(5) == List(1,2,3)\n",
    "        def take(n: Int): List[A]\n",
    "        \n",
    "        // Drop the first `n` elements of the list \n",
    "        // e.g. List(1,2,3).drop(2) == List(3)\n",
    "        //      List(1,2,3).drop(0) == List(1,2,3)\n",
    "        //      List(1,2,3).drop(4) == List()\n",
    "        def drop(n: Int): List[A]\n",
    "\n",
    "        // List concatenation\n",
    "        // e.g. List(1,2,3).concat(List(4,5)) == List(1,2,3,4,5)\n",
    "        def concat(l: List[A]): List[A]\n",
    "    }\n",
    "    \n",
    "    abstract class Option[A]{\n",
    "        // Test whether the value is defined (i.e. `Some`) or not (i.e. `None`)\n",
    "        def isDefined: Boolean \n",
    "        def map[B](f: A => B): Option[B]\n",
    "    }\n",
    "    \n",
    "    abstract class Either[A, B]{\n",
    "        // Test whether the value is left or right\n",
    "        def isLeft: Boolean \n",
    "        def isRight: Boolean \n",
    "        def map[C](f: B => C): Either[A, C]\n",
    "    }\n",
    "}"
   ]
  },
  {
   "cell_type": "markdown",
   "metadata": {},
   "source": [
    "### Definiciones auxiliares sobre la correspondencia Curry-Howard"
   ]
  },
  {
   "cell_type": "code",
   "execution_count": 2,
   "metadata": {},
   "outputs": [
    {
     "data": {
      "text/plain": [
       "defined \u001b[32mtype\u001b[39m \u001b[36mNot\u001b[39m\n",
       "defined \u001b[32mtype\u001b[39m \u001b[36m<=>\u001b[39m\n",
       "defined \u001b[32mtype\u001b[39m \u001b[36mOr\u001b[39m\n",
       "defined \u001b[32mtype\u001b[39m \u001b[36mAnd\u001b[39m"
      ]
     },
     "execution_count": 2,
     "metadata": {},
     "output_type": "execute_result"
    }
   ],
   "source": [
    "type Not[P] = P => Nothing\n",
    "type <=>[P, Q] = (P => Q, Q => P)\n",
    "type Or[P, Q] = Either[P, Q]\n",
    "type And[P, Q] = (P, Q)"
   ]
  },
  {
   "cell_type": "markdown",
   "metadata": {},
   "source": [
    "Proof the following theorem of classical logic assuming that the double negation law holds for proposition `P`:\n",
    "\n",
    "$ \\vdash (\\neg p \\rightarrow p) \\rightarrow p$"
   ]
  },
  {
   "cell_type": "code",
   "execution_count": 6,
   "metadata": {},
   "outputs": [
    {
     "data": {
      "text/plain": [
       "defined \u001b[32mfunction\u001b[39m \u001b[36mproof\u001b[39m"
      ]
     },
     "execution_count": 6,
     "metadata": {},
     "output_type": "execute_result"
    }
   ],
   "source": [
    "// Not[Not[P]] = ((P => Nothing) => Nothing)\n",
    "// Not[P] = P => Nothing\n",
    "\n",
    "def proof[P](dn: Not[Not[P]] => P): (Not[P] => P) => P =\n",
    "    npip => dn(np => np(npip(np)))"
   ]
  },
  {
   "cell_type": "markdown",
   "metadata": {},
   "source": [
    "$\\vdash \\neg \\neg \\neg p \\leftrightarrow \\neg p$"
   ]
  },
  {
   "cell_type": "code",
   "execution_count": 13,
   "metadata": {},
   "outputs": [
    {
     "data": {
      "text/plain": [
       "defined \u001b[32mfunction\u001b[39m \u001b[36mproofAux1\u001b[39m\n",
       "defined \u001b[32mfunction\u001b[39m \u001b[36mproofAux2\u001b[39m\n",
       "defined \u001b[32mfunction\u001b[39m \u001b[36mproof\u001b[39m"
      ]
     },
     "execution_count": 13,
     "metadata": {},
     "output_type": "execute_result"
    }
   ],
   "source": [
    "def proofAux1[P]: (Not[Not[Not[P]]] => Not[P], Not[P] => Not[Not[Not[P]]]) =\n",
    "    ???\n",
    "\n",
    "def proofAux2[P]: ((((P => Nothing) => Nothing) => Nothing) => (P => Nothing), \n",
    "                   (P => Nothing) => (((P => Nothing) => Nothing) => Nothing)) =\n",
    "    ???\n",
    "\n",
    "// np -> P => Nothing\n",
    "def proof[P]: Not[Not[Not[P]]] <=> Not[P] =\n",
    "    (nnnp => (p => nnnp(np => np(p))), np => (nnp => nnp(np)))"
   ]
  },
  {
   "cell_type": "markdown",
   "metadata": {},
   "source": [
    "# Ejercicio 1 (variante 1)\n",
    "\n",
    "\n",
    "__a) (2 puntos)__ Utiliza la correspondencia de Curry-Howard para demostrar que los siguientes razonamientos de la lógica proposicional representan deducciones válidas de la lógica intuicionista: \n",
    "\n",
    "* Dilema constructivo complejo: $\\{p ∨ q, p→r, q→s\\} ⊢ r ∨ s$"
   ]
  },
  {
   "cell_type": "code",
   "execution_count": 17,
   "metadata": {},
   "outputs": [
    {
     "data": {
      "text/plain": [
       "defined \u001b[32mfunction\u001b[39m \u001b[36mproofAux\u001b[39m\n",
       "defined \u001b[32mfunction\u001b[39m \u001b[36mproof\u001b[39m"
      ]
     },
     "execution_count": 17,
     "metadata": {},
     "output_type": "execute_result"
    }
   ],
   "source": [
    "def proofAux[P, Q, R, S]: Or[P, Q] => (P => R) => (Q => S) => Or[R, S] =\n",
    "    ???\n",
    "\n",
    "def proof[P, Q, R, S](porq: Or[P, Q], pir: P => R, qis: Q => S): Or[R, S] = // Or[R, S] = Either[R, S]\n",
    "    porq match {\n",
    "        case Left(p) =>\n",
    "            Left(pir(p))\n",
    "        case Right(q) =>\n",
    "            Right(qis(q))\n",
    "    }"
   ]
  },
  {
   "cell_type": "markdown",
   "metadata": {},
   "source": [
    "* Dilema destructivo simple: $\\{¬p ∨¬q, r→p, r→q\\} ⊢ ¬r$"
   ]
  },
  {
   "cell_type": "code",
   "execution_count": 21,
   "metadata": {},
   "outputs": [
    {
     "data": {
      "text/plain": [
       "defined \u001b[32mfunction\u001b[39m \u001b[36mproof\u001b[39m"
      ]
     },
     "execution_count": 21,
     "metadata": {},
     "output_type": "execute_result"
    }
   ],
   "source": [
    "// Or[Not[P], Not[Q]] = Either[P => Nothing, Q => Nothing]\n",
    "// Not[R] = R => Nothing\n",
    "\n",
    "def proof[P, Q, R](npornq: Or[Not[P], Not[Q]], rip: R => P, riq: R => Q): Not[R] =\n",
    "    r => npornq match {\n",
    "        case Left(np) => // r | np | rip | riq\n",
    "            np(rip(r))\n",
    "        case Right(nq) => // r | nq | rip | riq\n",
    "            nq(riq(r))\n",
    "    }"
   ]
  },
  {
   "cell_type": "markdown",
   "metadata": {},
   "source": [
    "* Dilema destructivo complejo: $\\{¬p ∨¬q, r→p, s→q\\} ⊢ ¬r ∨ ¬s$"
   ]
  },
  {
   "cell_type": "code",
   "execution_count": 27,
   "metadata": {},
   "outputs": [
    {
     "data": {
      "text/plain": [
       "defined \u001b[32mfunction\u001b[39m \u001b[36mproof\u001b[39m"
      ]
     },
     "execution_count": 27,
     "metadata": {},
     "output_type": "execute_result"
    }
   ],
   "source": [
    "// Or[Not[P], Not[Q]] = Either[P => Nothing, Q => Nothing]\n",
    "\n",
    "// Or[Not[R], Not[S]] = Either[R => Nothing, S => Nothing]\n",
    "\n",
    "def proof[P, Q, R, S](npornq: Or[Not[P], Not[Q]], rip: R => P, siq: S => Q): Or[Not[R], Not[S]] =\n",
    "    npornq match {\n",
    "        case Left(np) => // np | rip | siq\n",
    "            Left(r => np(rip(r)))\n",
    "        case Right(nq) =>\n",
    "            Right(s => nq(siq(s)))\n",
    "    }"
   ]
  },
  {
   "cell_type": "markdown",
   "metadata": {},
   "source": [
    "__b) (1 punto)__ Utiliza la correspondencia de Curry-Howard para demostrar el siguiente teorema de la lógica clásica: \n",
    "\n",
    "$⊢ ((p →q) →p)→p$\n",
    "\n",
    "Supóngase para ello que la ley del tercio excluso se cumple para la variable proposicional $p$, es decir, que la fórmula $p ∨ ¬p$  puede utilizarse como premisa.\n"
   ]
  },
  {
   "cell_type": "code",
   "execution_count": 5,
   "metadata": {},
   "outputs": [
    {
     "data": {
      "text/plain": [
       "defined \u001b[32mfunction\u001b[39m \u001b[36mproof\u001b[39m"
      ]
     },
     "execution_count": 5,
     "metadata": {},
     "output_type": "execute_result"
    }
   ],
   "source": [
    "def proof[P, Q](pornp: Or[P, Not[P]]): ((P => Q) => P) => P =\n",
    "    f => pornp match {\n",
    "        case Left(p) => // f | p\n",
    "            p\n",
    "        case Right(np) => // f: (P => Q) => P | np: P => Nothing\n",
    "            f(p => np(p))\n",
    "    }"
   ]
  },
  {
   "cell_type": "markdown",
   "metadata": {},
   "source": [
    "# Ejercicio 1 (variante 2)\n",
    "\n",
    "\n",
    "__a) (2 puntos)__ Utiliza la correspondencia de Curry-Howard para demostrar que los siguientes teoremas de la lógica intuicionista: \n",
    "\n",
    "* Dilema constructivo complejo: $⊢ (p ∨ q) → (p→r) → (q→s) → (r ∨ s)$"
   ]
  },
  {
   "cell_type": "code",
   "execution_count": 7,
   "metadata": {},
   "outputs": [
    {
     "data": {
      "text/plain": [
       "defined \u001b[32mfunction\u001b[39m \u001b[36mproofAux\u001b[39m\n",
       "defined \u001b[32mfunction\u001b[39m \u001b[36mproof\u001b[39m"
      ]
     },
     "execution_count": 7,
     "metadata": {},
     "output_type": "execute_result"
    }
   ],
   "source": [
    "def proofAux[P, Q, R, S](porq: Or[P, Q], pir: P => R, qis: Q => S): Or[R, S] = // Or[R, S] = Either[R, S]\n",
    "    ???\n",
    "\n",
    "def proof[P, Q, R, S]: Or[P, Q] => (P => R) => (Q => S) => Or[R, S] =\n",
    "    porq => pir => qis => porq match {\n",
    "        case Left(p) =>\n",
    "            Left(pir(p))\n",
    "        case Right(q) =>\n",
    "            Right(qis(q))\n",
    "    }"
   ]
  },
  {
   "cell_type": "markdown",
   "metadata": {},
   "source": [
    "* Dilema destructivo simple: $⊢ (¬p ∨¬q)→(r→p)→(r→q)→¬r$"
   ]
  },
  {
   "cell_type": "code",
   "execution_count": 9,
   "metadata": {},
   "outputs": [
    {
     "data": {
      "text/plain": [
       "defined \u001b[32mfunction\u001b[39m \u001b[36mproofAux\u001b[39m\n",
       "defined \u001b[32mfunction\u001b[39m \u001b[36mproof\u001b[39m"
      ]
     },
     "execution_count": 9,
     "metadata": {},
     "output_type": "execute_result"
    }
   ],
   "source": [
    "def proofAux[P, Q, R](npornq: Or[Not[P], Not[Q]], rip: R => P, riq: R => Q): Not[R] =\n",
    "    r => npornq match {\n",
    "        case Left(np) => // r | np | rip | riq\n",
    "            np(rip(r))\n",
    "        case Right(nq) => // r | nq | rip | riq\n",
    "            nq(riq(r))\n",
    "    }\n",
    "\n",
    "def proof[P, Q, R]: Or[Not[P], Not[Q]] => (R => P) => (R => Q) => Not[R] =\n",
    "    npornq => rip => riq => (r => npornq match {\n",
    "        case Left(np) => // r | np | rip | riq\n",
    "            np(rip(r))\n",
    "        case Right(nq) => // r | nq | rip | riq\n",
    "            nq(riq(r))\n",
    "    })"
   ]
  },
  {
   "cell_type": "markdown",
   "metadata": {},
   "source": [
    "* Dilema destructivo complejo: $⊢(¬p ∨¬q)→(r→p)→(s→q) → (¬r ∨ ¬s)$"
   ]
  },
  {
   "cell_type": "code",
   "execution_count": 11,
   "metadata": {},
   "outputs": [
    {
     "data": {
      "text/plain": [
       "defined \u001b[32mfunction\u001b[39m \u001b[36mproofAux\u001b[39m\n",
       "defined \u001b[32mfunction\u001b[39m \u001b[36mproof\u001b[39m"
      ]
     },
     "execution_count": 11,
     "metadata": {},
     "output_type": "execute_result"
    }
   ],
   "source": [
    "def proofAux[P, Q, R, S](npornq: Or[Not[P], Not[Q]], rip: R => P, siq: S => Q): Or[Not[R], Not[S]] =\n",
    "    npornq match {\n",
    "        case Left(np) => // np | rip | siq\n",
    "            Left(r => np(rip(r)))\n",
    "        case Right(nq) =>\n",
    "            Right(s => nq(siq(s)))\n",
    "    }\n",
    "\n",
    "def proof[P, Q, R, S]: Or[Not[P], Not[Q]] => (R => P) => (S => Q) => Or[Not[R], Not[S]] =\n",
    "    npornq => rip => siq => npornq match {\n",
    "        case Left(np) => // np | rip | siq\n",
    "            Left(r => np(rip(r)))\n",
    "        case Right(nq) =>\n",
    "            Right(s => nq(siq(s)))\n",
    "    }"
   ]
  },
  {
   "cell_type": "markdown",
   "metadata": {},
   "source": [
    "__b) (1 punto)__ Utiliza la correspondencia de Curry-Howard para demostrar el siguiente teorema de la lógica clásica: \n",
    "\n",
    "$⊢ ((p →q) →p)→p$\n",
    "\n",
    "Supóngase para ello que la ley de la doble negación se cumple para la variable proposicional $p$, es decir, que la fórmula  $¬¬p→p$  puede utilizarse como premisa."
   ]
  },
  {
   "cell_type": "code",
   "execution_count": 4,
   "metadata": {},
   "outputs": [
    {
     "data": {
      "text/plain": [
       "defined \u001b[32mfunction\u001b[39m \u001b[36mproof\u001b[39m"
      ]
     },
     "execution_count": 4,
     "metadata": {},
     "output_type": "execute_result"
    }
   ],
   "source": [
    "// Not[Not[P]] = ((P => Nothing) => Nothing)\n",
    "\n",
    "def proof[P, Q](dn: Not[Not[P]] => P): ((P => Q) => P) => P =\n",
    "    f => dn(np => np(f(np)))"
   ]
  },
  {
   "cell_type": "markdown",
   "metadata": {},
   "source": [
    "# Ejercicio 2 \n",
    "__(1 punto)__"
   ]
  },
  {
   "cell_type": "markdown",
   "metadata": {},
   "source": [
    "Demuestra el siguiente isomorfismo entre tipos algebraicos de datos para todo tipo $X$: \n",
    "\n",
    "$(X+1)^2 \\cong X^2+2*X+1$\n",
    "\n",
    "de tal forma que se verifique el siguiente test unitario para $X=Boolean$:"
   ]
  },
  {
   "cell_type": "markdown",
   "metadata": {},
   "source": [
    "_(variante 1)_"
   ]
  },
  {
   "cell_type": "code",
   "execution_count": 17,
   "metadata": {},
   "outputs": [
    {
     "data": {
      "text/plain": [
       "defined \u001b[32mclass\u001b[39m \u001b[36mIsoTest\u001b[39m"
      ]
     },
     "execution_count": 17,
     "metadata": {},
     "output_type": "execute_result"
    }
   ],
   "source": [
    "class IsoTest(\n",
    "    from: ((Option[Boolean], Option[Boolean])) => Either[(Boolean, Boolean), Either[Boolean, Option[Boolean]]],\n",
    "    to: Either[(Boolean, Boolean), Either[Boolean, Option[Boolean]]] => (Option[Boolean], Option[Boolean])\n",
    ") extends FlatSpec with Matchers {\n",
    "    \"from-to\" should \"work\" in {\n",
    "        from(to(Left((true,true)))) shouldBe Left((true, true))\n",
    "        from(to(Right(Left(true)))) shouldBe Right(Left(true))\n",
    "        from(to(Right(Right(Some(true))))) shouldBe Right(Right(Some(true)))\n",
    "        from(to(Right(Right(None)))) shouldBe Right(Right(None))\n",
    "    }\n",
    "    \n",
    "    \"to-from\" should \"work\" in {\n",
    "        to(from((None, None))) shouldBe (None, None)\n",
    "        to(from((Some(false), None))) shouldBe (Some(false), None)\n",
    "        to(from((None, Some(true)))) shouldBe (None, Some(true))\n",
    "        to(from((Some(true), Some(false)))) shouldBe (Some(true), Some(false))\n",
    "    }\n",
    "}"
   ]
  },
  {
   "cell_type": "code",
   "execution_count": 18,
   "metadata": {},
   "outputs": [
    {
     "data": {
      "text/plain": [
       "defined \u001b[32mfunction\u001b[39m \u001b[36mfrom\u001b[39m"
      ]
     },
     "execution_count": 18,
     "metadata": {},
     "output_type": "execute_result"
    }
   ],
   "source": [
    "// Option: None = 1 | Some(X) = X\n",
    "def from[X](l: (Option[X], Option[X])): Either[(X, X), Either[X, Option[X]]] = \n",
    "    l match {\n",
    "        case (Some(x1), Some(x2)) =>\n",
    "            Left((x1, x2))\n",
    "        case (Some(x), None) =>\n",
    "            Right(Left(x))\n",
    "        case (None, Some(x)) =>\n",
    "            Right(Right(Some(x)))\n",
    "        case (None, None) =>\n",
    "            Right(Right(None))\n",
    "    }"
   ]
  },
  {
   "cell_type": "code",
   "execution_count": 1,
   "metadata": {},
   "outputs": [
    {
     "data": {
      "text/plain": [
       "defined \u001b[32mfunction\u001b[39m \u001b[36mto\u001b[39m"
      ]
     },
     "execution_count": 1,
     "metadata": {},
     "output_type": "execute_result"
    }
   ],
   "source": [
    "def to[X](l: Either[(X, X), Either[X, Option[X]]]): (Option[X], Option[X]) = \n",
    "    l match {\n",
    "        case Left((x1, x2)) =>\n",
    "            (Some(x1), Some(x2))\n",
    "        case Right(Left(x)) =>\n",
    "            (Some(x), None)\n",
    "        case Right(Right(Some(x))) =>\n",
    "            (None, Some(x))\n",
    "        case Right(Right(None)) =>\n",
    "            (None, None)\n",
    "    }"
   ]
  },
  {
   "cell_type": "code",
   "execution_count": 20,
   "metadata": {},
   "outputs": [
    {
     "name": "stdout",
     "output_type": "stream",
     "text": [
      "\u001b[32mcmd16$Helper$IsoTest:\u001b[0m\n",
      "\u001b[32mfrom-to\u001b[0m\n",
      "\u001b[32m- should work\u001b[0m\n",
      "\u001b[32mto-from\u001b[0m\n",
      "\u001b[32m- should work\u001b[0m\n"
     ]
    }
   ],
   "source": [
    "run(new IsoTest(from, to))"
   ]
  },
  {
   "cell_type": "markdown",
   "metadata": {},
   "source": [
    "_(variante 2)_"
   ]
  },
  {
   "cell_type": "code",
   "execution_count": 21,
   "metadata": {},
   "outputs": [
    {
     "data": {
      "text/plain": [
       "defined \u001b[32mclass\u001b[39m \u001b[36mIsoTest\u001b[39m"
      ]
     },
     "execution_count": 21,
     "metadata": {},
     "output_type": "execute_result"
    }
   ],
   "source": [
    "class IsoTest(\n",
    "    from: ((Either[Boolean, Unit], Either[Boolean, Unit])) => \n",
    "                Either[(Boolean, Boolean), Either[Boolean, Either[Boolean, Unit]]],\n",
    "    to: Either[(Boolean, Boolean), Either[Boolean, Either[Boolean, Unit]]] => \n",
    "                (Either[Boolean, Unit], Either[Boolean, Unit])\n",
    ") extends FlatSpec with Matchers {\n",
    "    \"from-to\" should \"work\" in {\n",
    "        from(to(Left((true, true)))) shouldBe Left((true, true))\n",
    "        from(to(Right(Left(true)))) shouldBe Right(Left(true))\n",
    "        from(to(Right(Right(Left(true))))) shouldBe Right(Right(Left(true)))\n",
    "        from(to(Right(Right(Right(()))))) shouldBe Right(Right(Right(())))\n",
    "    }\n",
    "    \n",
    "    \"to-from\" should \"work\" in {\n",
    "        to(from((Right(()), Right(())))) shouldBe (Right(()), Right(()))\n",
    "        to(from((Left(false), Right(())))) shouldBe (Left(false), Right(()))\n",
    "        to(from((Right(()), Left(true)))) shouldBe (Right(()), Left(true))\n",
    "        to(from((Left(true), Left(false)))) shouldBe (Left(true), Left(false))\n",
    "    }\n",
    "}"
   ]
  },
  {
   "cell_type": "code",
   "execution_count": 22,
   "metadata": {},
   "outputs": [
    {
     "data": {
      "text/plain": [
       "defined \u001b[32mfunction\u001b[39m \u001b[36mfrom\u001b[39m"
      ]
     },
     "execution_count": 22,
     "metadata": {},
     "output_type": "execute_result"
    }
   ],
   "source": [
    "// Unit: () = 1 | X = X\n",
    "def from[X](l: (Either[X, Unit], Either[X, Unit])): Either[(X, X), Either[X, Either[X, Unit]]] = \n",
    "    l match {\n",
    "        case (Left(x1), Left(x2)) => // X * X\n",
    "            Left((x1, x2))\n",
    "        case (Left(x), Right(())) => // X * 1\n",
    "            Right(Left(x))\n",
    "        case (Right(()), Left(x)) => // 1 * X\n",
    "            Right(Right(Left(x)))\n",
    "        case (Right(()), Right(())) => // 1 * 1\n",
    "            Right(Right(Right(())))\n",
    "    }"
   ]
  },
  {
   "cell_type": "code",
   "execution_count": 23,
   "metadata": {},
   "outputs": [
    {
     "data": {
      "text/plain": [
       "defined \u001b[32mfunction\u001b[39m \u001b[36mto\u001b[39m"
      ]
     },
     "execution_count": 23,
     "metadata": {},
     "output_type": "execute_result"
    }
   ],
   "source": [
    "def to[X](l: Either[(X, X), Either[X, Either[X, Unit]]]): (Either[X, Unit], Either[X, Unit]) = \n",
    "    l match {\n",
    "        case Left((x1, x2)) =>\n",
    "            (Left(x1), Left(x2))\n",
    "        case Right(Left(x)) =>\n",
    "            (Left(x), Right(()))\n",
    "        case Right(Right(Left(x))) =>\n",
    "            (Right(()), Left(x))\n",
    "        case Right(Right(Right(()))) =>\n",
    "            (Right(()), Right(()))\n",
    "    } "
   ]
  },
  {
   "cell_type": "code",
   "execution_count": 24,
   "metadata": {},
   "outputs": [
    {
     "name": "stdout",
     "output_type": "stream",
     "text": [
      "\u001b[32mcmd20$Helper$IsoTest:\u001b[0m\n",
      "\u001b[32mfrom-to\u001b[0m\n",
      "\u001b[32m- should work\u001b[0m\n",
      "\u001b[32mto-from\u001b[0m\n",
      "\u001b[32m- should work\u001b[0m\n"
     ]
    }
   ],
   "source": [
    "run(new IsoTest(from, to))"
   ]
  },
  {
   "cell_type": "markdown",
   "metadata": {},
   "source": [
    "# Ejercicio 3 (variante 1)\n",
    "__(3 puntos)__\n",
    "\n",
    "La función de orden superior `sequence` recibe una lista de valores opcionales y devuelve una lista con todos los valores pertenecientes a la lista de entrada (en el mismo orden), _en caso de que todos los valores de la lista de entrada estén definidos_; si alguno de los valores opcionales de la lista de entrada es `None`, entonces la función sequence devuelve `None` también. El comportamiento de la función se ilustra en el siguiente test unitario:\n"
   ]
  },
  {
   "cell_type": "code",
   "execution_count": 26,
   "metadata": {},
   "outputs": [
    {
     "data": {
      "text/plain": [
       "defined \u001b[32mclass\u001b[39m \u001b[36mSequenceTest\u001b[39m"
      ]
     },
     "execution_count": 26,
     "metadata": {},
     "output_type": "execute_result"
    }
   ],
   "source": [
    "class SequenceTest(\n",
    "    sequence: List[Option[Int]] => Option[List[Int]]\n",
    ") extends FlatSpec with Matchers {\n",
    "    \"sequence\" should \"work\" in {\n",
    "        sequence(List(Some(1), Some(2), Some(3))) shouldBe Some(List(1,2,3))\n",
    "        sequence(List(None, Some(2), Some(3))) shouldBe None\n",
    "        sequence(List(Some(1), None, Some(3))) shouldBe None\n",
    "        sequence(List(Some(5))) shouldBe Some(List(5))\n",
    "        sequence(List(None)) shouldBe None\n",
    "        sequence(List()) shouldBe Some(List())\n",
    "    }\n",
    "}"
   ]
  },
  {
   "cell_type": "markdown",
   "metadata": {},
   "source": [
    "__a) (1 punto)__ Implementa la función `sequence` de manera recursiva."
   ]
  },
  {
   "cell_type": "code",
   "execution_count": 4,
   "metadata": {},
   "outputs": [
    {
     "data": {
      "text/plain": [
       "defined \u001b[32mfunction\u001b[39m \u001b[36msequence\u001b[39m"
      ]
     },
     "execution_count": 4,
     "metadata": {},
     "output_type": "execute_result"
    }
   ],
   "source": [
    "def sequence[A](list: List[Option[A]]): Option[List[A]] =\n",
    "    list match {\n",
    "        case List() => // case Nil =>\n",
    "            Some(List())\n",
    "        case head :: tail =>\n",
    "            head match {\n",
    "                case None => // Option[A]\n",
    "                    None // Option[List[A]]\n",
    "                case Some(v) =>\n",
    "                    sequence(tail) match {\n",
    "                        case None => // Option[List[A]]\n",
    "                            None\n",
    "                        case Some(r) =>\n",
    "                            Some(v :: r)\n",
    "                    }\n",
    "            }\n",
    "    }\n",
    "\n",
    "/*\n",
    "Ej.: \n",
    "1. sequence(List(Some(1), None, Some(3))) -> head = Some(1) :: tail = List(None, Some(3))\n",
    " Some(1) match {\n",
    "    case None => X\n",
    "        None\n",
    "    case Some(1) => OK! | v = 1\n",
    "        None match { ||\n",
    "         None  \n",
    "        }\n",
    " }\n",
    "2. sequence(List(None, Some(3))) -> head = None :: tail = List(Some(3))\n",
    " None\n",
    "*/\n",
    "\n",
    "/*\n",
    "1. sequence(List(Some(1), Some(3))) -> head = Some(1) :: tail = List(Some(3)) -> Some(List(1, 3))x\n",
    " Some(1) match {\n",
    "    case None => X\n",
    "        None\n",
    "    case Some(1) => OK! | v = 1\n",
    "        Some(List(3)) match { ||\n",
    "         case None => X\n",
    "             None\n",
    "         case Some(List(3)) => OK! | r = List(3)\n",
    "             Some(1 :: List(3)) -> Some(List(1, 3))  \n",
    "        }\n",
    " }\n",
    "2. sequence(List(Some(3))) -> head = Some(3) :: tail = List()\n",
    " Some(3) match {\n",
    "    case None => X\n",
    "        None\n",
    "    case Some(3) => OK! | v = 3\n",
    "        Some(List()) match { ||\n",
    "         case None => X\n",
    "             None\n",
    "         case Some(List()) => OK! | r = List()\n",
    "             Some(3 :: List()) -> Some(List(3))\n",
    "        }\n",
    " }\n",
    "3. sequence(List()) -> Some(List())\n",
    "*/"
   ]
  },
  {
   "cell_type": "code",
   "execution_count": 32,
   "metadata": {},
   "outputs": [
    {
     "name": "stdout",
     "output_type": "stream",
     "text": [
      "\u001b[32mcmd25$Helper$SequenceTest:\u001b[0m\n",
      "\u001b[32msequence\u001b[0m\n",
      "\u001b[32m- should work\u001b[0m\n"
     ]
    }
   ],
   "source": [
    "run(new SequenceTest(sequence))"
   ]
  },
  {
   "cell_type": "markdown",
   "metadata": {},
   "source": [
    "__b) (1 punto)__ Implementa la función `sequence` utilizando __`foldRight`__."
   ]
  },
  {
   "cell_type": "code",
   "execution_count": 35,
   "metadata": {},
   "outputs": [
    {
     "data": {
      "text/plain": [
       "defined \u001b[32mfunction\u001b[39m \u001b[36msequenceFR\u001b[39m"
      ]
     },
     "execution_count": 35,
     "metadata": {},
     "output_type": "execute_result"
    }
   ],
   "source": [
    "def sequenceFR[A](list: List[Option[A]]): Option[List[A]] =\n",
    "    list.foldRight(Some(List()): Option[List[A]]){\n",
    "        case (_, None) => // Si me llega por la derecha que 'acc' es None, directamente devuelvo para la siguiente iteración 'None'\n",
    "            None\n",
    "        case (None, _) => // Si el elemento sobre el que estamos es 'None', directamente ...\n",
    "            None\n",
    "        case (Some(v), Some(r)) =>\n",
    "            Some(v :: r)\n",
    "    }"
   ]
  },
  {
   "cell_type": "code",
   "execution_count": 36,
   "metadata": {},
   "outputs": [
    {
     "name": "stdout",
     "output_type": "stream",
     "text": [
      "\u001b[32mcmd25$Helper$SequenceTest:\u001b[0m\n",
      "\u001b[32msequence\u001b[0m\n",
      "\u001b[32m- should work\u001b[0m\n"
     ]
    }
   ],
   "source": [
    "run(new SequenceTest(sequenceFR))"
   ]
  },
  {
   "cell_type": "markdown",
   "metadata": {},
   "source": [
    "__c) (1 punto)__ Se desea implementar una función que reciba una lista de enteros, divida todos sus elementos entre un valor dado y, finalmente, multiplique los resultados de las divisiones, _siempre y cuando todas las divisiones hayan resultado en un valor entero_. En caso de que la división de algunos de los elementos no haya sido entera o no se haya podido realizar (en el caso de la división por cero), la función no devolverá ningún número. Por ejemplo:\n",
    "\n"
   ]
  },
  {
   "cell_type": "code",
   "execution_count": 3,
   "metadata": {},
   "outputs": [
    {
     "data": {
      "text/plain": [
       "defined \u001b[32mclass\u001b[39m \u001b[36mTestOp\u001b[39m"
      ]
     },
     "execution_count": 3,
     "metadata": {},
     "output_type": "execute_result"
    }
   ],
   "source": [
    "class TestOp(op: (List[Int], Int) => Option[Int]) extends FlatSpec with Matchers {\n",
    "    \"op\" should \"work\" in {\n",
    "        op(List(2,4,6), 2) shouldBe Some(2/2*4/2*6/2)\n",
    "        op(List(3,6,9), 3) shouldBe Some(6)\n",
    "        op(List(3,5,9), 3) shouldBe None\n",
    "        op(List(), 5) shouldBe Some(1)\n",
    "        op(List(), 0) shouldBe Some(1)\n",
    "        op(List(2,5,2), 0) shouldBe None\n",
    "    }\n",
    "}"
   ]
  },
  {
   "cell_type": "markdown",
   "metadata": {},
   "source": [
    "Implementa la función `op` utilizando `sequence` y otras funciones de orden superior del catálogo explicado en clase."
   ]
  },
  {
   "cell_type": "code",
   "execution_count": 5,
   "metadata": {},
   "outputs": [
    {
     "data": {
      "text/plain": [
       "defined \u001b[32mfunction\u001b[39m \u001b[36mop\u001b[39m"
      ]
     },
     "execution_count": 5,
     "metadata": {},
     "output_type": "execute_result"
    }
   ],
   "source": [
    "def op(list: List[Int], n: Int): Option[Int] =\n",
    "    sequence(list.map{ nList =>\n",
    "        if (n != 0 && nList % n == 0) { // OK!\n",
    "            Some(nList / n)\n",
    "        } else {\n",
    "            None\n",
    "        }\n",
    "    }) match {\n",
    "        case None => // Option[List[Int]]\n",
    "            None // Option[Int]\n",
    "        case Some(l) =>\n",
    "            Some(l.foldLeft(1){ (acc, elem) =>\n",
    "                acc * elem\n",
    "            })\n",
    "    }\n",
    "\n",
    "/*\n",
    "    sequence(List(2,4,6).map{ => List(Some(1), Some(2), Some(3))\n",
    "        1ª It. nList -> 2 => Some(1)\n",
    "        2ª It. nList -> 4 => Some(2)\n",
    "        3ª It. nList -> 6 => Some(3)\n",
    "    }) => Option[List(1, 2, 3)]\n",
    "    \n",
    "    List(1, 2, 3).foldLeft(1) { (acc, elem) =>\n",
    "        1ª It. acc = 1 | elem = 1 -> 1\n",
    "        2ª It. acc = 1 | elem = 2 -> 2\n",
    "        3ª It. acc = 2 | elem = 3 -> 6\n",
    "    } => 6\n",
    "*/"
   ]
  },
  {
   "cell_type": "code",
   "execution_count": 6,
   "metadata": {},
   "outputs": [
    {
     "name": "stdout",
     "output_type": "stream",
     "text": [
      "\u001b[32mcmd2$Helper$TestOp:\u001b[0m\n",
      "\u001b[32mop\u001b[0m\n",
      "\u001b[32m- should work\u001b[0m\n"
     ]
    }
   ],
   "source": [
    "run(new TestOp(op))"
   ]
  },
  {
   "cell_type": "markdown",
   "metadata": {},
   "source": [
    "# Ejercicio 3 (variante 2)\n",
    "__(3 puntos)__\n",
    "\n",
    "La función de orden superior `sequence` recibe una lista de valores de tipo `X` o `Y` y devuelve una lista con los valores de tipo `Y` pertenecientes a la lista de entrada (en el mismo orden), _en caso de que dicha lista no contenga ningún valor de tipo `X`_; en caso de que sí lo contenga, la función `sequence` devolverá el primer valor de tipo `X` encontrado. El comportamiento de la función se ilustra en el siguiente test unitario, donde la función `sequence` se encuentra particularizada para los tipos `X=String` e `Y=Int`:\n"
   ]
  },
  {
   "cell_type": "code",
   "execution_count": 14,
   "metadata": {},
   "outputs": [
    {
     "data": {
      "text/plain": [
       "defined \u001b[32mclass\u001b[39m \u001b[36mSequenceTest\u001b[39m"
      ]
     },
     "execution_count": 14,
     "metadata": {},
     "output_type": "execute_result"
    }
   ],
   "source": [
    "class SequenceTest(\n",
    "    sequence: List[Either[String, Int]] => Either[String, List[Int]]\n",
    ") extends FlatSpec with Matchers {\n",
    "    \"sequence\" should \"work\" in {\n",
    "        sequence(List(Right(1), Right(2), Right(3))) shouldBe Right(List(1,2,3))\n",
    "        sequence(List(Left(\"error1\"), Right(2), Right(3))) shouldBe Left(\"error1\")\n",
    "        sequence(List(Right(1), Left(\"error1\"), Right(3))) shouldBe Left(\"error1\")\n",
    "        sequence(List(Right(1), Left(\"error1\"), Left(\"error2\"))) shouldBe Left(\"error1\")\n",
    "        sequence(List(Right(5))) shouldBe Right(List(5))\n",
    "        sequence(List(Left(\"error1\"))) shouldBe Left(\"error1\")\n",
    "        sequence(List()) shouldBe Right(List())\n",
    "    }\n",
    "}"
   ]
  },
  {
   "cell_type": "markdown",
   "metadata": {},
   "source": [
    "__a) (1 punto)__ Implementa la función `sequence` de manera recursiva."
   ]
  },
  {
   "cell_type": "code",
   "execution_count": 15,
   "metadata": {},
   "outputs": [
    {
     "data": {
      "text/plain": [
       "defined \u001b[32mfunction\u001b[39m \u001b[36msequence\u001b[39m"
      ]
     },
     "execution_count": 15,
     "metadata": {},
     "output_type": "execute_result"
    }
   ],
   "source": [
    "def sequence[X, Y](list: List[Either[X, Y]]): Either[X, List[Y]] =\n",
    "    list match {\n",
    "        case List() =>\n",
    "            Right(List())\n",
    "        case head :: tail => // head: Either[X, Y]\n",
    "            head match {\n",
    "                case Left(x) =>\n",
    "                    Left(x)\n",
    "                case Right(y) =>\n",
    "                    sequence(tail) match {\n",
    "                        case Left(x) =>\n",
    "                            Left(x)\n",
    "                        case Right(ly) =>\n",
    "                            Right(y :: ly)\n",
    "                    }\n",
    "            }\n",
    "    }\n",
    "\n",
    "/*\n",
    "    1. sequence(List(Right(1), Right(2), Right(3))) => List(1, 2, 3)\n",
    "        head = Right(1)\n",
    "        tail = List(Right(2), Right(3))\n",
    "        y = 1\n",
    "        List(2, 3)\n",
    "        ly = List(2, 3)\n",
    "    2. sequence(List(Right(2), Right(3))) => List(2, 3)\n",
    "        head = Right(2)\n",
    "        tail = List(Right(3))\n",
    "        y = 2\n",
    "        List(3)\n",
    "        ly = List(3)\n",
    "    3. sequence(List(Right(3))) => List(3)\n",
    "        head = Right(3)\n",
    "        tail = List()\n",
    "        y = 3\n",
    "        Right(List())\n",
    "        ly = List()\n",
    "    4. sequence(List()) => Right(List())\n",
    "*/"
   ]
  },
  {
   "cell_type": "code",
   "execution_count": 16,
   "metadata": {},
   "outputs": [
    {
     "name": "stdout",
     "output_type": "stream",
     "text": [
      "\u001b[32mcmd13$Helper$SequenceTest:\u001b[0m\n",
      "\u001b[32msequence\u001b[0m\n",
      "\u001b[32m- should work\u001b[0m\n"
     ]
    }
   ],
   "source": [
    "run(new SequenceTest(sequence))"
   ]
  },
  {
   "cell_type": "markdown",
   "metadata": {},
   "source": [
    "__b) (1 punto)__ Implementa la función `sequence` utilizando __`foldRight`__."
   ]
  },
  {
   "cell_type": "code",
   "execution_count": 17,
   "metadata": {},
   "outputs": [
    {
     "data": {
      "text/plain": [
       "defined \u001b[32mfunction\u001b[39m \u001b[36msequenceFR\u001b[39m"
      ]
     },
     "execution_count": 17,
     "metadata": {},
     "output_type": "execute_result"
    }
   ],
   "source": [
    "def sequenceFR[X, Y](list: List[Either[X, Y]]): Either[X, List[Y]] =\n",
    "    list.foldRight(Right(List()): Either[X, List[Y]]){\n",
    "        case (Left(x), _) =>\n",
    "            Left(x)\n",
    "        case (_, Left(x)) =>\n",
    "            Left(x)\n",
    "        case (Right(y), Right(ly)) =>\n",
    "            Right(y :: ly)\n",
    "    }\n",
    "\n",
    "/*\n",
    "    sequenceFR(List(Right(1), Left(\"error1\"), Left(\"error2\")))\n",
    "                elem            acc\n",
    "    1ª It. Left(\"error2\")  Right(List()) => Left(\"error2\")\n",
    "    2ª It. Left(\"error1\")  Left(\"error2\") => Left(\"error1\")\n",
    "    3ª It. Right(1)        Left(\"error1\") => Left(\"error1\")\n",
    "*/"
   ]
  },
  {
   "cell_type": "code",
   "execution_count": 18,
   "metadata": {},
   "outputs": [
    {
     "name": "stdout",
     "output_type": "stream",
     "text": [
      "\u001b[32mcmd13$Helper$SequenceTest:\u001b[0m\n",
      "\u001b[32msequence\u001b[0m\n",
      "\u001b[32m- should work\u001b[0m\n"
     ]
    }
   ],
   "source": [
    "run(new SequenceTest(sequenceFR))"
   ]
  },
  {
   "cell_type": "markdown",
   "metadata": {},
   "source": [
    "__c) (1 punto)__ Se desea implementar una función que reciba una lista de enteros, divida todos sus elementos entre un valor dado y, finalmente, multiplique los resultados de las divisiones, _siempre y cuando todas las divisiones hayan resultado en un valor entero_. En caso de que la división de algunos de los elementos no haya sido entera o no se haya podido realizar (en el caso de la división por cero), la función devolverá la cadena `\"error\"`. Por ejemplo:\n",
    "\n"
   ]
  },
  {
   "cell_type": "code",
   "execution_count": 20,
   "metadata": {},
   "outputs": [
    {
     "data": {
      "text/plain": [
       "defined \u001b[32mclass\u001b[39m \u001b[36mTestOp\u001b[39m"
      ]
     },
     "execution_count": 20,
     "metadata": {},
     "output_type": "execute_result"
    }
   ],
   "source": [
    "class TestOp(op: (List[Int], Int) => Either[String, Int]) extends FlatSpec with Matchers {\n",
    "    \"op\" should \"work\" in {\n",
    "        op(List(2,4,6), 2) shouldBe Right(2/2*4/2*6/2)\n",
    "        op(List(3,6,9), 3) shouldBe Right(6)\n",
    "        op(List(3,5,9), 3) shouldBe Left(\"error\")\n",
    "        op(List(), 5) shouldBe Right(1)\n",
    "        op(List(), 0) shouldBe Right(1)\n",
    "        op(List(2,5,2), 0) shouldBe Left(\"error\")\n",
    "    }\n",
    "}"
   ]
  },
  {
   "cell_type": "markdown",
   "metadata": {},
   "source": [
    "Implementa la función `op` utilizando `sequence` y otras funciones de orden superior del catálogo explicado en clase."
   ]
  },
  {
   "cell_type": "code",
   "execution_count": 19,
   "metadata": {},
   "outputs": [
    {
     "data": {
      "text/plain": [
       "defined \u001b[32mfunction\u001b[39m \u001b[36mop\u001b[39m"
      ]
     },
     "execution_count": 19,
     "metadata": {},
     "output_type": "execute_result"
    }
   ],
   "source": [
    "def op(list: List[Int], n: Int): Either[String, Int] =\n",
    "    sequence(list.map{ nList =>\n",
    "        if (n != 0 && nList % n == 0) {\n",
    "            Right(nList / n)\n",
    "        } else {\n",
    "            Left(\"error\")\n",
    "        }\n",
    "    }) match {\n",
    "        case Left(s) =>\n",
    "            Left(s)\n",
    "        case Right(l) =>\n",
    "            Right(l.foldLeft(1){ (acc, elem) =>\n",
    "                acc * elem\n",
    "            })\n",
    "    }"
   ]
  },
  {
   "cell_type": "code",
   "execution_count": 21,
   "metadata": {},
   "outputs": [
    {
     "name": "stdout",
     "output_type": "stream",
     "text": [
      "\u001b[32mcmd19$Helper$TestOp:\u001b[0m\n",
      "\u001b[32mop\u001b[0m\n",
      "\u001b[32m- should work\u001b[0m\n"
     ]
    }
   ],
   "source": [
    "run(new TestOp(op))"
   ]
  },
  {
   "cell_type": "markdown",
   "metadata": {},
   "source": [
    "# Ejercicio 4\n",
    "__(3 puntos)__\n",
    "\n",
    "Considérese la siguiente implementación mediante recursión final de la función de orden superior `foldLeft`: \n",
    "```scala\n",
    "def foldLeft[A, B](l: List[A])(acc: B)(f: (B, A) => B): B = \n",
    "    l match {\n",
    "        case Nil => acc\n",
    "        case h :: t => foldLeft(t)(f(acc, h))(f)\n",
    "    }\n",
    "```"
   ]
  },
  {
   "cell_type": "markdown",
   "metadata": {},
   "source": [
    "__a) (1,5 puntos)__ Implementa una variante de la función `foldLeft`, denominada `foldLeftUntil`, que permita finalizar de manera anticipada la iteración cuando el valor acumulado hasta el momento satisfaga determinada condición. En caso de que el valor acumulado no cumpla nunca la condición, el comportamiento será el mismo de la función `foldLeft`."
   ]
  },
  {
   "cell_type": "code",
   "execution_count": 23,
   "metadata": {},
   "outputs": [
    {
     "data": {
      "text/plain": [
       "defined \u001b[32mfunction\u001b[39m \u001b[36mfoldLeftUntil\u001b[39m"
      ]
     },
     "execution_count": 23,
     "metadata": {},
     "output_type": "execute_result"
    }
   ],
   "source": [
    "def foldLeftUntil[A, B](l: List[A])(acc: B)(pred: B => Boolean)(f: (B, A) => B): B =\n",
    "    if (pred(acc)) {\n",
    "        acc\n",
    "    } else {\n",
    "        l match {\n",
    "            case List() =>\n",
    "                acc\n",
    "            case head :: tail =>\n",
    "                foldLeftUntil(tail)(f(acc, head))(pred)(f)\n",
    "        }\n",
    "    }"
   ]
  },
  {
   "cell_type": "markdown",
   "metadata": {},
   "source": [
    "_(variante 1)_"
   ]
  },
  {
   "cell_type": "markdown",
   "metadata": {},
   "source": [
    "__b) (1,5 puntos)__ Dada una lista de pares clave/valor, se desea implementar una función `lookup` que devuelva el valor asociado a una clave en caso de que exista. Si existen varias ocurrencias con la misma clave se devolverá el valor de la primera. Por ejemplo:"
   ]
  },
  {
   "cell_type": "code",
   "execution_count": 24,
   "metadata": {},
   "outputs": [
    {
     "data": {
      "text/plain": [
       "defined \u001b[32mclass\u001b[39m \u001b[36mTestLookup\u001b[39m"
      ]
     },
     "execution_count": 24,
     "metadata": {},
     "output_type": "execute_result"
    }
   ],
   "source": [
    "class TestLookup(\n",
    "    lookup: List[(Int, String)] => Int => Option[String]\n",
    ") extends FlatSpec with Matchers {\n",
    "    \"lookup\" should \"work\" in {\n",
    "        lookup(List())(1) shouldBe None\n",
    "        lookup(List((1, \"a\"), (2, \"b\"), (3, \"c\")))(1) shouldBe Some(\"a\")\n",
    "        lookup(List((1, \"a\"), (2, \"b\"), (1, \"a_bis\"), (3, \"c\")))(1) shouldBe Some(\"a\")\n",
    "        lookup(List((1, \"a\"), (2, \"b\"), (3, \"c\")))(2) shouldBe Some(\"b\")\n",
    "        lookup(List((1, \"a\"), (2, \"b\"), (3, \"c\")))(3) shouldBe Some(\"c\")\n",
    "        lookup(List((1, \"a\"), (2, \"b\"), (3, \"c\")))(0) shouldBe None\n",
    "    }\n",
    "}"
   ]
  },
  {
   "cell_type": "markdown",
   "metadata": {},
   "source": [
    "Implementa la función `lookup` utilizando la función `foldLeftUntil` del apartado anterior: "
   ]
  },
  {
   "cell_type": "code",
   "execution_count": 27,
   "metadata": {},
   "outputs": [
    {
     "data": {
      "text/plain": [
       "defined \u001b[32mfunction\u001b[39m \u001b[36mlookup\u001b[39m"
      ]
     },
     "execution_count": 27,
     "metadata": {},
     "output_type": "execute_result"
    }
   ],
   "source": [
    "// def foldLeftUntil[A, B](l: List[A])(acc: B)(pred: B => Boolean)(f: (B, A) => B): B\n",
    "// isDefined: true -> Some | false -> None\n",
    "def lookup[K, V](list: List[(K, V)])(key: K): Option[V] =\n",
    "    foldLeftUntil(list)(None: Option[V])(_.isDefined){ // (acc, elem) =>\n",
    "        /*\n",
    "        case (acc, (k, v)) =>\n",
    "            if (key == k) {\n",
    "                Some(v)\n",
    "            } else {\n",
    "                acc\n",
    "            }\n",
    "        */\n",
    "        case (_, (`key`, value)) => Some(value)\n",
    "        case (acc, _) => acc\n",
    "    }"
   ]
  },
  {
   "cell_type": "code",
   "execution_count": 28,
   "metadata": {},
   "outputs": [
    {
     "name": "stdout",
     "output_type": "stream",
     "text": [
      "\u001b[32mcmd23$Helper$TestLookup:\u001b[0m\n",
      "\u001b[32mlookup\u001b[0m\n",
      "\u001b[32m- should work\u001b[0m\n"
     ]
    }
   ],
   "source": [
    "run(new TestLookup(lookup))"
   ]
  },
  {
   "cell_type": "markdown",
   "metadata": {},
   "source": [
    "_(variante 2)_\n",
    "\n",
    "__b) (1,5 puntos)__ Dada una lista de pares clave/valor, se desea implementar una función `lookup` que devuelva el valor asociado a una clave en caso de que exista. Si existen varias ocurrencias con la misma clave se devolverá el valor de la primera. Si no existe valor para la clave especificada se devolverá la cadena `\"error\"`. Por ejemplo:"
   ]
  },
  {
   "cell_type": "code",
   "execution_count": 30,
   "metadata": {},
   "outputs": [
    {
     "data": {
      "text/plain": [
       "defined \u001b[32mclass\u001b[39m \u001b[36mTestLookup\u001b[39m"
      ]
     },
     "execution_count": 30,
     "metadata": {},
     "output_type": "execute_result"
    }
   ],
   "source": [
    "class TestLookup(\n",
    "    lookup: List[(Int, Char)] => Int => Either[String, Char]\n",
    ") extends FlatSpec with Matchers {\n",
    "    \"lookup\" should \"work\" in {\n",
    "        lookup(List())(1) shouldBe Left(\"error\")\n",
    "        lookup(List((1, 'a'), (2, 'b'), (3, 'c')))(1) shouldBe Right('a')\n",
    "        lookup(List((1, 'a'), (2, 'b'), (1, 'f'), (3, 'c')))(1) shouldBe Right('a')\n",
    "        lookup(List((1, 'a'), (2, 'b'), (3, 'c')))(2) shouldBe Right('b')\n",
    "        lookup(List((1, 'a'), (2, 'b'), (3, 'c')))(3) shouldBe Right('c')\n",
    "        lookup(List((1, 'a'), (2, 'b'), (3, 'c')))(0) shouldBe Left(\"error\")\n",
    "    }\n",
    "}"
   ]
  },
  {
   "cell_type": "markdown",
   "metadata": {},
   "source": [
    "Implementa la función `lookup` utilizando la función `foldLeftUntil` del apartado anterior: "
   ]
  },
  {
   "cell_type": "code",
   "execution_count": 31,
   "metadata": {},
   "outputs": [
    {
     "data": {
      "text/plain": [
       "defined \u001b[32mfunction\u001b[39m \u001b[36mlookup\u001b[39m"
      ]
     },
     "execution_count": 31,
     "metadata": {},
     "output_type": "execute_result"
    }
   ],
   "source": [
    "// isLeft: true Left | false Right\n",
    "// isRight: true Right | false Left\n",
    "def lookup[K, V](list: List[(K, V)])(key: K): Either[String, V] =\n",
    "    foldLeftUntil(list)(Left(\"error\"): Either[String, V])(_.isRight){ // (acc, elem) =>\n",
    "        case (_, (`key`, value)) => Right(value)\n",
    "        case (acc, _) => acc\n",
    "    }"
   ]
  },
  {
   "cell_type": "code",
   "execution_count": 32,
   "metadata": {},
   "outputs": [
    {
     "name": "stdout",
     "output_type": "stream",
     "text": [
      "\u001b[32mcmd29$Helper$TestLookup:\u001b[0m\n",
      "\u001b[32mlookup\u001b[0m\n",
      "\u001b[32m- should work\u001b[0m\n"
     ]
    }
   ],
   "source": [
    "run(new TestLookup(lookup))"
   ]
  }
 ],
 "metadata": {
  "kernelspec": {
   "display_name": "Scala",
   "language": "scala",
   "name": "scala"
  },
  "language_info": {
   "codemirror_mode": "text/x-scala",
   "file_extension": ".sc",
   "mimetype": "text/x-scala",
   "name": "scala",
   "nbconvert_exporter": "script",
   "version": "2.13.16"
  }
 },
 "nbformat": 4,
 "nbformat_minor": 4
}
