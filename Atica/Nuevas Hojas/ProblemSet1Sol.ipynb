{
 "cells": [
  {
   "cell_type": "markdown",
   "metadata": {},
   "source": [
    "# Declarative Programming @ URJC\n",
    "# Functional programming\n",
    "## Problem Set 1: Functions"
   ]
  },
  {
   "cell_type": "markdown",
   "metadata": {},
   "source": [
    "## Exercise 1"
   ]
  },
  {
   "cell_type": "markdown",
   "metadata": {},
   "source": [
    "Implement the following _function-methods_ as standard _function-values_ without any syntactic sugar, i.e. as instances of the corresponding trait [Function1](https://www.scala-lang.org/api/current/scala/Function1.html), [Function2](https://www.scala-lang.org/api/current/scala/Function2.html), etc. Implement alternative versions using `object`/`val` declarations, and different levels of type inference."
   ]
  },
  {
   "cell_type": "code",
   "execution_count": 1,
   "metadata": {},
   "outputs": [
    {
     "data": {
      "text/plain": [
       "\u001b[32mimport \u001b[39m\u001b[36mscala.math._\n",
       "\n",
       "\u001b[39m\n",
       "defined \u001b[32mobject\u001b[39m \u001b[36mFunctionMethods\u001b[39m"
      ]
     },
     "execution_count": 1,
     "metadata": {},
     "output_type": "execute_result"
    }
   ],
   "source": [
    "// trait = interface (Java)\n",
    "// Function1, Function2, ..., Function22 -> apply\n",
    "\n",
    "import scala.math._\n",
    "\n",
    "object FunctionMethods { // object = static (Java)\n",
    "    def circleArea(radius: Double): Double = \n",
    "        Pi*pow(radius, 2)\n",
    "    \n",
    "    def triangleArea(base: Double, height: Double): Double = \n",
    "        base * height / 2\n",
    "    \n",
    "    def rectangleArea(width: Double, height: Double): Double = \n",
    "        width * height\n",
    "    \n",
    "    def trapezoidArea(width1: Double, width2: Double, height: Double): Double = \n",
    "        (width1 + width2) * height / 2 \n",
    "}"
   ]
  },
  {
   "cell_type": "code",
   "execution_count": 5,
   "metadata": {},
   "outputs": [
    {
     "data": {
      "text/plain": [
       "\u001b[32mimport \u001b[39m\u001b[36mscala.math._\n",
       "\n",
       "\u001b[39m\n",
       "defined \u001b[32mobject\u001b[39m \u001b[36mFunctionValuesNoSugar\u001b[39m"
      ]
     },
     "execution_count": 5,
     "metadata": {},
     "output_type": "execute_result"
    }
   ],
   "source": [
    "import scala.math._\n",
    "\n",
    "object FunctionValuesNoSugar {\n",
    "    object CircleArea extends Function1[Double, Double] {\n",
    "        def apply(radius: Double): Double =\n",
    "            Pi * pow(radius, 2)\n",
    "    } \n",
    "    \n",
    "    object TriangleArea extends Function2[Double, Double, Double] {\n",
    "        def apply(base: Double, height: Double): Double =\n",
    "            base * height / 2\n",
    "    }\n",
    "    \n",
    "    val rectangleArea = new Function2[Double, Double, Double] {\n",
    "        def apply(width: Double, height: Double): Double =\n",
    "            width * height\n",
    "    }\n",
    "    \n",
    "    val trapezoidArea: Function3[Double, Double, Double, Double] = new Function3[Double, Double, Double, Double] {\n",
    "        def apply(width1: Double, width2: Double, height: Double): Double =\n",
    "            (width1 + width2) * height / 2\n",
    "    }\n",
    "}"
   ]
  },
  {
   "cell_type": "code",
   "execution_count": 9,
   "metadata": {},
   "outputs": [
    {
     "data": {
      "text/plain": [
       "\u001b[36mres8_0\u001b[39m: \u001b[32mDouble\u001b[39m = \u001b[32m7.0685834705770345\u001b[39m\n",
       "\u001b[36mres8_1\u001b[39m: \u001b[32mDouble\u001b[39m = \u001b[32m3.75\u001b[39m\n",
       "\u001b[36mres8_2\u001b[39m: \u001b[32mDouble\u001b[39m = \u001b[32m8.0\u001b[39m\n",
       "\u001b[36mres8_3\u001b[39m: \u001b[32mDouble\u001b[39m = \u001b[32m4.5\u001b[39m"
      ]
     },
     "execution_count": 9,
     "metadata": {},
     "output_type": "execute_result"
    }
   ],
   "source": [
    "FunctionValuesNoSugar.CircleArea.apply(1.5)\n",
    "FunctionValuesNoSugar.TriangleArea(2.5, 3)\n",
    "FunctionValuesNoSugar.rectangleArea.apply(2, 4)\n",
    "FunctionValuesNoSugar.trapezoidArea(1, 2, 3)"
   ]
  },
  {
   "cell_type": "markdown",
   "metadata": {},
   "source": [
    "## Exercise 2"
   ]
  },
  {
   "cell_type": "markdown",
   "metadata": {},
   "source": [
    "The same as in exercise 1, but using lambda expressions. Implement alternative versions with different levels of type inference and syntactic sugar (e.g. using _underscore_ syntax)."
   ]
  },
  {
   "cell_type": "code",
   "execution_count": null,
   "metadata": {},
   "outputs": [],
   "source": [
    "// trait = interface (Java)\n",
    "// Function1, Function2, ..., Function22 -> apply\n",
    "\n",
    "import scala.math._\n",
    "\n",
    "object FunctionMethods { // object = static (Java)\n",
    "    def circleArea(radius: Double): Double = \n",
    "        Pi*pow(radius, 2)\n",
    "    \n",
    "    def triangleArea(base: Double, height: Double): Double = \n",
    "        base * height / 2\n",
    "    \n",
    "    def rectangleArea(width: Double, height: Double): Double = \n",
    "        width * height\n",
    "    \n",
    "    def trapezoidArea(width1: Double, width2: Double, height: Double): Double = \n",
    "        (width1 + width2) * height / 2 \n",
    "}"
   ]
  },
  {
   "cell_type": "code",
   "execution_count": 39,
   "metadata": {},
   "outputs": [
    {
     "data": {
      "text/plain": [
       "\u001b[32mimport \u001b[39m\u001b[36mscala.math._\n",
       "\n",
       "\u001b[39m\n",
       "defined \u001b[32mobject\u001b[39m \u001b[36mFunctionValuesSugar\u001b[39m"
      ]
     },
     "execution_count": 39,
     "metadata": {},
     "output_type": "execute_result"
    }
   ],
   "source": [
    "import scala.math._\n",
    "\n",
    "object FunctionValuesSugar {\n",
    "    val circleAreaV1: (Double) => Double =\n",
    "        (radius: Double) => Pi * pow(radius, 2)\n",
    "    \n",
    "    val circleAreaV2: (Double) => Double =\n",
    "        radius => Pi * pow(radius, 2)\n",
    "    \n",
    "    val circleAreaV3: (Double) => Double =\n",
    "        Pi * pow(_, 2)\n",
    "            \n",
    "    val triangleAreaV1: (Double, Double) => Double = // Los 2 parámetros de la función van en el mismo contexto\n",
    "        (base, height) => base * height / 2\n",
    "    \n",
    "    val triangleAreaV2: (Double, Double) => Double =\n",
    "        _ * _ / 2\n",
    "    \n",
    "    val triangleAreaV3: Double => Double => Double = // Los 2 parámetros de la función van en diferentes contextos\n",
    "        base => height => base * height / 2\n",
    "    \n",
    "    val triangleAreaV4: Double => Double => Double =\n",
    "        // _ * _ / 2 -> missing parameter type for expanded function\n",
    "        base => height => base * height / 2\n",
    "    \n",
    "    val triangleAreaV5: ((Double, Double)) => Double =\n",
    "        t => t._1 * t._2 / 2\n",
    "    \n",
    "    val triangleAreaV6: ((Double, Double)) => Double =\n",
    "        t => t match {\n",
    "            case (base, height) =>\n",
    "                base * height / 2\n",
    "        }\n",
    "    \n",
    "    val triangleAreaV7: ((Double, Double)) => Double = {\n",
    "        case (base, height) =>\n",
    "                base * height / 2\n",
    "    }\n",
    "    \n",
    "    val rectangleArea: (Double, Double) => Double =\n",
    "        (width, height) => width * height\n",
    "    \n",
    "    val trapezoidArea: (Double, Double, Double) => Double =\n",
    "        (width1, width2, height) => (width1 + width2) * height / 2\n",
    "}"
   ]
  },
  {
   "cell_type": "code",
   "execution_count": 40,
   "metadata": {},
   "outputs": [
    {
     "data": {
      "text/plain": [
       "\u001b[36mres39_0\u001b[39m: \u001b[32mDouble\u001b[39m = \u001b[32m3.141592653589793\u001b[39m\n",
       "\u001b[36mres39_1\u001b[39m: \u001b[32mDouble\u001b[39m = \u001b[32m3.141592653589793\u001b[39m\n",
       "\u001b[36mres39_2\u001b[39m: \u001b[32mDouble\u001b[39m = \u001b[32m3.141592653589793\u001b[39m\n",
       "\u001b[36mres39_3\u001b[39m: \u001b[32mDouble\u001b[39m = \u001b[32m1.0\u001b[39m\n",
       "\u001b[36mres39_4\u001b[39m: \u001b[32mDouble\u001b[39m = \u001b[32m1.0\u001b[39m\n",
       "\u001b[36mres39_5\u001b[39m: \u001b[32mDouble\u001b[39m = \u001b[32m1.0\u001b[39m\n",
       "\u001b[36mres39_6\u001b[39m: \u001b[32mDouble\u001b[39m = \u001b[32m1.0\u001b[39m\n",
       "\u001b[36mres39_7\u001b[39m: \u001b[32mDouble\u001b[39m = \u001b[32m1.0\u001b[39m\n",
       "\u001b[36mres39_8\u001b[39m: \u001b[32mDouble\u001b[39m = \u001b[32m1.0\u001b[39m\n",
       "\u001b[36mres39_9\u001b[39m: \u001b[32mDouble\u001b[39m = \u001b[32m1.0\u001b[39m\n",
       "\u001b[36mres39_10\u001b[39m: \u001b[32mDouble\u001b[39m = \u001b[32m8.0\u001b[39m\n",
       "\u001b[36mres39_11\u001b[39m: \u001b[32mDouble\u001b[39m = \u001b[32m4.5\u001b[39m"
      ]
     },
     "execution_count": 40,
     "metadata": {},
     "output_type": "execute_result"
    }
   ],
   "source": [
    "FunctionValuesSugar.circleAreaV1(1)\n",
    "FunctionValuesSugar.circleAreaV2(1)\n",
    "FunctionValuesSugar.circleAreaV3(1)\n",
    "FunctionValuesSugar.triangleAreaV1(1, 2)\n",
    "FunctionValuesSugar.triangleAreaV2(1, 2)\n",
    "FunctionValuesSugar.triangleAreaV3(1)(2)\n",
    "FunctionValuesSugar.triangleAreaV4(1)(2)\n",
    "FunctionValuesSugar.triangleAreaV5((1, 2))\n",
    "FunctionValuesSugar.triangleAreaV6((1, 2))\n",
    "FunctionValuesSugar.triangleAreaV7((1, 2))\n",
    "FunctionValuesSugar.rectangleArea(2, 4)\n",
    "FunctionValuesSugar.trapezoidArea(1, 2, 3)"
   ]
  },
  {
   "cell_type": "markdown",
   "metadata": {},
   "source": [
    "## Exercise 3 "
   ]
  },
  {
   "cell_type": "markdown",
   "metadata": {},
   "source": [
    "Implement the function-methods as _currified_ function-values."
   ]
  },
  {
   "cell_type": "code",
   "execution_count": 43,
   "metadata": {},
   "outputs": [
    {
     "data": {
      "text/plain": [
       "\u001b[32mimport \u001b[39m\u001b[36mscala.math._\n",
       "\n",
       "\u001b[39m\n",
       "defined \u001b[32mobject\u001b[39m \u001b[36mFunctionValuesCurrified\u001b[39m"
      ]
     },
     "execution_count": 43,
     "metadata": {},
     "output_type": "execute_result"
    }
   ],
   "source": [
    "import scala.math._\n",
    "\n",
    "object FunctionValuesCurrified{\n",
    "    val circleArea: Double => Double =\n",
    "        radius => Pi * pow(radius, 2)\n",
    "    \n",
    "    val triangleArea: Double => Double => Double =\n",
    "        base => height => base * height / 2\n",
    "    \n",
    "    val rectangleArea: Double => Double => Double =\n",
    "        width => height => width * height\n",
    "    \n",
    "    val trapezoid: Double => Double => Double => Double =\n",
    "        width1 => width2 => height => (width1 + width2) * height / 2\n",
    "}"
   ]
  },
  {
   "cell_type": "markdown",
   "metadata": {},
   "source": [
    "## Exercise 4"
   ]
  },
  {
   "cell_type": "markdown",
   "metadata": {},
   "source": [
    "Given the following monomorphic version of the `call` HOF "
   ]
  },
  {
   "cell_type": "code",
   "execution_count": null,
   "metadata": {},
   "outputs": [],
   "source": [
    "def call(f: Int => Int, a: Int): Int =\n",
    "    f(a)"
   ]
  },
  {
   "cell_type": "markdown",
   "metadata": {},
   "source": [
    "implement a polymorphic version as a function-method, so that it can work with multiple types (i.e. not only with functions of type `Int => Int`). Test that your implementation is correct by checking that the following examples compile and work as expected."
   ]
  },
  {
   "cell_type": "code",
   "execution_count": 44,
   "metadata": {},
   "outputs": [
    {
     "data": {
      "text/plain": [
       "defined \u001b[32mfunction\u001b[39m \u001b[36mcall\u001b[39m"
      ]
     },
     "execution_count": 44,
     "metadata": {},
     "output_type": "execute_result"
    }
   ],
   "source": [
    "def call[A, B](f: A => B, a: A): B =\n",
    "    f(a)"
   ]
  },
  {
   "cell_type": "code",
   "execution_count": 49,
   "metadata": {},
   "outputs": [
    {
     "data": {
      "text/plain": [
       "\u001b[36mres48_0\u001b[39m: \u001b[32mInt\u001b[39m = \u001b[32m2\u001b[39m\n",
       "\u001b[36mres48_1\u001b[39m: \u001b[32mInt\u001b[39m = \u001b[32m4\u001b[39m\n",
       "\u001b[36mres48_2\u001b[39m: \u001b[32mString\u001b[39m = \u001b[32m\"hello, pepe\"\u001b[39m\n",
       "\u001b[36mres48_3\u001b[39m: \u001b[32mBoolean\u001b[39m = true\n",
       "\u001b[36mres48_4\u001b[39m: \u001b[32mBoolean\u001b[39m = false"
      ]
     },
     "execution_count": 49,
     "metadata": {},
     "output_type": "execute_result"
    }
   ],
   "source": [
    "call[Int, Int](_ + 1, 1)\n",
    "call((i: Int) => i + 1, 3)\n",
    "call(\"hello, \" + _, \"pepe\")\n",
    "call((_ : Int) > 0, 3)\n",
    "call((i: Int) => i < 0, 2)"
   ]
  },
  {
   "cell_type": "markdown",
   "metadata": {},
   "source": [
    "## Exercise 5"
   ]
  },
  {
   "cell_type": "markdown",
   "metadata": {},
   "source": [
    "Given the following monomorphic version of the `call` HOF "
   ]
  },
  {
   "cell_type": "code",
   "execution_count": null,
   "metadata": {},
   "outputs": [],
   "source": [
    "def call(f: Int => Int)(a: Int): Int =\n",
    "    f(a)"
   ]
  },
  {
   "cell_type": "markdown",
   "metadata": {},
   "source": [
    "implement a polymorphic version as a currified function-value, so that it can work with multiple types. The implementation must comply with the following template:"
   ]
  },
  {
   "cell_type": "code",
   "execution_count": 50,
   "metadata": {},
   "outputs": [
    {
     "data": {
      "text/plain": [
       "defined \u001b[32mfunction\u001b[39m \u001b[36mcall\u001b[39m"
      ]
     },
     "execution_count": 50,
     "metadata": {},
     "output_type": "execute_result"
    }
   ],
   "source": [
    "def call[A, B](f: A => B)(a: A): B =\n",
    "    f(a)"
   ]
  },
  {
   "cell_type": "code",
   "execution_count": 53,
   "metadata": {},
   "outputs": [
    {
     "data": {
      "text/plain": [
       "defined \u001b[32mfunction\u001b[39m \u001b[36mcall\u001b[39m"
      ]
     },
     "execution_count": 53,
     "metadata": {},
     "output_type": "execute_result"
    }
   ],
   "source": [
    "def call[A, B]: (A => B) => A => B =\n",
    "    f => a => f(a)"
   ]
  },
  {
   "cell_type": "markdown",
   "metadata": {},
   "source": [
    "Test that your implementation is correct by checking that the following examples compile and work as expected."
   ]
  },
  {
   "cell_type": "code",
   "execution_count": 54,
   "metadata": {},
   "outputs": [
    {
     "data": {
      "text/plain": [
       "\u001b[36mres53_0\u001b[39m: \u001b[32mInt\u001b[39m = \u001b[32m2\u001b[39m\n",
       "\u001b[36mres53_1\u001b[39m: \u001b[32mInt\u001b[39m = \u001b[32m4\u001b[39m\n",
       "\u001b[36mres53_2\u001b[39m: \u001b[32mString\u001b[39m = \u001b[32m\"hello, pepe\"\u001b[39m\n",
       "\u001b[36mres53_3\u001b[39m: \u001b[32mBoolean\u001b[39m = true\n",
       "\u001b[36mres53_4\u001b[39m: \u001b[32mBoolean\u001b[39m = false"
      ]
     },
     "execution_count": 54,
     "metadata": {},
     "output_type": "execute_result"
    }
   ],
   "source": [
    "call[Int, Int](_ + 1)(1)\n",
    "call((i: Int) => i+1)(3)\n",
    "call(\"hello, \" + _)(\"pepe\")\n",
    "call((_ : Int) > 0)(3)\n",
    "call((i: Int) => i < 0)(2)"
   ]
  },
  {
   "cell_type": "markdown",
   "metadata": {},
   "source": [
    "## Exercise 6"
   ]
  },
  {
   "cell_type": "markdown",
   "metadata": {},
   "source": [
    "Implement the identity laws of function composition:\n",
    "1. `(identity[B] compose f)(a) == f(a)` for all `f: A => B`, `a: A`\n",
    "2. `(f compose identity[A])(a) == f(a)` for all `f: A => B`, `a: A`"
   ]
  },
  {
   "cell_type": "code",
   "execution_count": null,
   "metadata": {},
   "outputs": [],
   "source": [
    "f(x) · g(x) -> f(g(x))"
   ]
  },
  {
   "cell_type": "code",
   "execution_count": 55,
   "metadata": {},
   "outputs": [
    {
     "data": {
      "text/plain": [
       "defined \u001b[32mfunction\u001b[39m \u001b[36midentityRightLaw\u001b[39m"
      ]
     },
     "execution_count": 55,
     "metadata": {},
     "output_type": "execute_result"
    }
   ],
   "source": [
    "// f(x) -> x + 1 \n",
    "// identity(f(a)) == f(a)\n",
    "// identity(f(2)) == f(2)\n",
    "def identityRightLaw[A, B](f: A => B, a: A): Boolean = \n",
    "    identity(f(a)) == f(a)"
   ]
  },
  {
   "cell_type": "code",
   "execution_count": 56,
   "metadata": {},
   "outputs": [
    {
     "data": {
      "text/plain": [
       "defined \u001b[32mfunction\u001b[39m \u001b[36midentityLeftLaw\u001b[39m"
      ]
     },
     "execution_count": 56,
     "metadata": {},
     "output_type": "execute_result"
    }
   ],
   "source": [
    "def identityLeftLaw[A, B](f: A => B, a: A): Boolean = \n",
    "    f(identity(a)) == f(a)"
   ]
  }
 ],
 "metadata": {
  "kernelspec": {
   "display_name": "Scala",
   "language": "scala",
   "name": "scala"
  },
  "language_info": {
   "codemirror_mode": "text/x-scala",
   "file_extension": ".sc",
   "mimetype": "text/x-scala",
   "name": "scala",
   "nbconvert_exporter": "script",
   "version": "2.13.16"
  }
 },
 "nbformat": 4,
 "nbformat_minor": 4
}
