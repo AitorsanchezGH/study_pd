{
 "cells": [
  {
   "cell_type": "markdown",
   "metadata": {},
   "source": [
    "# Declarative Programming @ URJC\n",
    "# Functional programming\n",
    "## Problem Set 2: Algebraic data types"
   ]
  },
  {
   "cell_type": "markdown",
   "metadata": {},
   "source": [
    "## Exercise 1"
   ]
  },
  {
   "cell_type": "markdown",
   "metadata": {},
   "source": [
    "### Part a)"
   ]
  },
  {
   "cell_type": "markdown",
   "metadata": {},
   "source": [
    "Prove that the isomorphism $1+1 \\cong Boolean$ holds by implementing the following bijections: "
   ]
  },
  {
   "cell_type": "code",
   "execution_count": null,
   "metadata": {},
   "outputs": [],
   "source": [
    "// Nothing -> 0. NO tiene constructor (???)\n",
    "// Unit -> 1. Constructor -> ()\n",
    "// + -> Either (or). Constructores -> Left & Right\n",
    "// * -> Tuple (and)\n",
    "// ^ -> Function. Ej.: Z^X -> X => Z "
   ]
  },
  {
   "cell_type": "code",
   "execution_count": 1,
   "metadata": {},
   "outputs": [
    {
     "data": {
      "text/plain": [
       "defined \u001b[32mfunction\u001b[39m \u001b[36mtoBoolean\u001b[39m\n",
       "defined \u001b[32mfunction\u001b[39m \u001b[36mtoBooleanV1\u001b[39m\n",
       "defined \u001b[32mfunction\u001b[39m \u001b[36mtoBooleanV2\u001b[39m\n",
       "defined \u001b[32mfunction\u001b[39m \u001b[36mtoBooleanV3\u001b[39m\n",
       "defined \u001b[32mfunction\u001b[39m \u001b[36mtoBooleanV4\u001b[39m"
      ]
     },
     "execution_count": 1,
     "metadata": {},
     "output_type": "execute_result"
    }
   ],
   "source": [
    "// |Boolean| ^ |Either[Unit, Unit]| = 2^2 = 4\n",
    "def toBoolean(a: Either[Unit, Unit]): Boolean = a match {\n",
    "    case Left(()) =>\n",
    "        false\n",
    "    case Right(()) =>\n",
    "        true\n",
    "}\n",
    "\n",
    "def toBooleanV1(a: Either[Unit, Unit]): Boolean = a match {\n",
    "    case Left(()) =>\n",
    "        false\n",
    "    case Right(()) =>\n",
    "        false\n",
    "}\n",
    "\n",
    "def toBooleanV2(a: Either[Unit, Unit]): Boolean = a match {\n",
    "    case Left(()) =>\n",
    "        false\n",
    "    case Right(()) =>\n",
    "        true\n",
    "}\n",
    "\n",
    "def toBooleanV3(a: Either[Unit, Unit]): Boolean = a match {\n",
    "    case Left(()) =>\n",
    "        true\n",
    "    case Right(()) =>\n",
    "        false\n",
    "}\n",
    "\n",
    "def toBooleanV4(a: Either[Unit, Unit]): Boolean = a match {\n",
    "    case Left(()) =>\n",
    "        true\n",
    "    case Right(()) =>\n",
    "        true\n",
    "}"
   ]
  },
  {
   "cell_type": "code",
   "execution_count": 2,
   "metadata": {},
   "outputs": [
    {
     "data": {
      "text/plain": [
       "defined \u001b[32mfunction\u001b[39m \u001b[36mfromBoolean\u001b[39m"
      ]
     },
     "execution_count": 2,
     "metadata": {},
     "output_type": "execute_result"
    }
   ],
   "source": [
    "// 2^2 = 4\n",
    "def fromBoolean(a: Boolean): Either[Unit, Unit] = a match {\n",
    "    case false =>\n",
    "        Left(())\n",
    "    case true =>\n",
    "        Right(())\n",
    "}"
   ]
  },
  {
   "cell_type": "markdown",
   "metadata": {},
   "source": [
    "Check that they are indeed mutual inverses, i.e. that for all $a: Boolean$, `toBoolean(fromBoolean(a))==a`, and that for all $a: Either[Unit, Unit]$, `fromBoolean(toBoolean(a))==a`."
   ]
  },
  {
   "cell_type": "code",
   "execution_count": 5,
   "metadata": {},
   "outputs": [
    {
     "data": {
      "text/plain": [
       "\u001b[36mres4_0\u001b[39m: \u001b[32mBoolean\u001b[39m = true\n",
       "\u001b[36mres4_1\u001b[39m: \u001b[32mBoolean\u001b[39m = true\n",
       "\u001b[36mres4_2\u001b[39m: \u001b[32mBoolean\u001b[39m = true\n",
       "\u001b[36mres4_3\u001b[39m: \u001b[32mBoolean\u001b[39m = true"
      ]
     },
     "execution_count": 5,
     "metadata": {},
     "output_type": "execute_result"
    }
   ],
   "source": [
    "toBoolean(fromBoolean(false)) == false\n",
    "toBoolean(fromBoolean(true)) == true\n",
    "fromBoolean(toBoolean(Left(()))) == Left(())\n",
    "fromBoolean(toBoolean(Right(()))) == Right(())"
   ]
  },
  {
   "cell_type": "markdown",
   "metadata": {},
   "source": [
    "### Part b)"
   ]
  },
  {
   "cell_type": "markdown",
   "metadata": {},
   "source": [
    "Show that we can redefine `Option[A]` using `Either[A,Unit]`: "
   ]
  },
  {
   "cell_type": "code",
   "execution_count": 7,
   "metadata": {},
   "outputs": [
    {
     "data": {
      "text/plain": [
       "defined \u001b[32mfunction\u001b[39m \u001b[36mfrom\u001b[39m\n",
       "defined \u001b[32mfunction\u001b[39m \u001b[36mto\u001b[39m"
      ]
     },
     "execution_count": 7,
     "metadata": {},
     "output_type": "execute_result"
    }
   ],
   "source": [
    "def from[A](o: Option[A]): Either[A, Unit] = o match {\n",
    "    case None =>\n",
    "        Right(())\n",
    "    case Some(a) =>\n",
    "        Left(a)\n",
    "}\n",
    "\n",
    "def to[A](e: Either[A, Unit]): Option[A] = e match {\n",
    "    case Left(a) =>\n",
    "        Some(a)\n",
    "    case Right(()) =>\n",
    "        None\n",
    "}"
   ]
  },
  {
   "cell_type": "markdown",
   "metadata": {},
   "source": [
    "Check that these functions are mutual inverses. For that, fix $A$ to particular types (e.g. `Boolean`, `Int`, etc.), and test the equivalences `from(to(e)) == e` and `to(from(o)) == o` for some values $o$ and $e$."
   ]
  },
  {
   "cell_type": "code",
   "execution_count": 11,
   "metadata": {},
   "outputs": [
    {
     "data": {
      "text/plain": [
       "\u001b[36mres10_0\u001b[39m: \u001b[32mBoolean\u001b[39m = true\n",
       "\u001b[36mres10_1\u001b[39m: \u001b[32mBoolean\u001b[39m = true\n",
       "\u001b[36mres10_2\u001b[39m: \u001b[32mBoolean\u001b[39m = true\n",
       "\u001b[36mres10_3\u001b[39m: \u001b[32mBoolean\u001b[39m = true"
      ]
     },
     "execution_count": 11,
     "metadata": {},
     "output_type": "execute_result"
    }
   ],
   "source": [
    "from(to(Left(1))) == Left(1)\n",
    "from(to(Right(()))) == Right(())\n",
    "to(from(None)) == None\n",
    "to(from(Some(1))) == Some(1)"
   ]
  },
  {
   "cell_type": "markdown",
   "metadata": {},
   "source": [
    "## Exercise 2"
   ]
  },
  {
   "cell_type": "markdown",
   "metadata": {},
   "source": [
    "How many functions are there of type `1+1+1 => Boolean`? Identify all of them as alternative implementations of the following signature: "
   ]
  },
  {
   "cell_type": "code",
   "execution_count": 12,
   "metadata": {},
   "outputs": [
    {
     "data": {
      "text/plain": [
       "defined \u001b[32mfunction\u001b[39m \u001b[36mf1\u001b[39m\n",
       "defined \u001b[32mfunction\u001b[39m \u001b[36mf2\u001b[39m\n",
       "defined \u001b[32mfunction\u001b[39m \u001b[36mf3\u001b[39m\n",
       "defined \u001b[32mfunction\u001b[39m \u001b[36mf4\u001b[39m\n",
       "defined \u001b[32mfunction\u001b[39m \u001b[36mf5\u001b[39m\n",
       "defined \u001b[32mfunction\u001b[39m \u001b[36mf6\u001b[39m\n",
       "defined \u001b[32mfunction\u001b[39m \u001b[36mf7\u001b[39m\n",
       "defined \u001b[32mfunction\u001b[39m \u001b[36mf8\u001b[39m"
      ]
     },
     "execution_count": 12,
     "metadata": {},
     "output_type": "execute_result"
    }
   ],
   "source": [
    "// 2 ^ 3 = 8\n",
    "// 1ª. Left(()) -> false\n",
    "//     Right(Left(())) -> false\n",
    "//     Right(Right(())) -> false\n",
    "// 2ª. Left(()) -> false\n",
    "//     Right(Left(())) -> false\n",
    "//     Right(Right(())) -> true\n",
    "// 000, 001, 010, 011, 100, 101, 110, 111\n",
    "def f1(e: Either[Unit, Either[Unit, Unit]]): Boolean = e match {\n",
    "    case Left(()) =>\n",
    "        false\n",
    "    case Right(Left(())) =>\n",
    "        false\n",
    "    case Right(Right(())) =>\n",
    "        false\n",
    "}\n",
    "\n",
    "def f2(e: Either[Unit, Either[Unit, Unit]]): Boolean = e match {\n",
    "    case Left(()) =>\n",
    "        false\n",
    "    case Right(Left(())) =>\n",
    "        false\n",
    "    case Right(Right(())) =>\n",
    "        true\n",
    "}\n",
    "\n",
    "def f3(e: Either[Unit, Either[Unit, Unit]]): Boolean = e match {\n",
    "    case Left(()) =>\n",
    "        false\n",
    "    case Right(Left(())) =>\n",
    "        true\n",
    "    case Right(Right(())) =>\n",
    "        false\n",
    "}\n",
    "\n",
    "def f4(e: Either[Unit, Either[Unit, Unit]]): Boolean = e match {\n",
    "    case Left(()) =>\n",
    "        false\n",
    "    case Right(Left(())) =>\n",
    "        true\n",
    "    case Right(Right(())) =>\n",
    "        true\n",
    "}\n",
    "\n",
    "def f5(e: Either[Unit, Either[Unit, Unit]]): Boolean = e match {\n",
    "    case Left(()) =>\n",
    "        true\n",
    "    case Right(Left(())) =>\n",
    "        false\n",
    "    case Right(Right(())) =>\n",
    "        false\n",
    "}\n",
    "\n",
    "def f6(e: Either[Unit, Either[Unit, Unit]]): Boolean = e match {\n",
    "    case Left(()) =>\n",
    "        true\n",
    "    case Right(Left(())) =>\n",
    "        false\n",
    "    case Right(Right(())) =>\n",
    "        true\n",
    "}\n",
    "\n",
    "def f7(e: Either[Unit, Either[Unit, Unit]]): Boolean = e match {\n",
    "    case Left(()) =>\n",
    "        true\n",
    "    case Right(Left(())) =>\n",
    "        true\n",
    "    case Right(Right(())) =>\n",
    "        false\n",
    "}\n",
    "\n",
    "def f8(e: Either[Unit, Either[Unit, Unit]]): Boolean = e match {\n",
    "    case Left(()) =>\n",
    "        true\n",
    "    case Right(Left(())) =>\n",
    "        true\n",
    "    case Right(Right(())) =>\n",
    "        true\n",
    "}"
   ]
  },
  {
   "cell_type": "markdown",
   "metadata": {},
   "source": [
    "Idem, as alternative lambda expressions:"
   ]
  },
  {
   "cell_type": "code",
   "execution_count": 14,
   "metadata": {},
   "outputs": [
    {
     "data": {
      "text/html": [
       "<div class=\"jp-RenderedText\">\n",
       "<pre><code><span style=\"color: rgb(0, 187, 187)\"><span class=\"ansi-cyan-fg\">f1</span></span>: <span style=\"color: rgb(0, 187, 0)\"><span class=\"ansi-green-fg\">Either</span></span>[<span style=\"color: rgb(0, 187, 0)\"><span class=\"ansi-green-fg\">Unit</span></span>, <span style=\"color: rgb(0, 187, 0)\"><span class=\"ansi-green-fg\">Either</span></span>[<span style=\"color: rgb(0, 187, 0)\"><span class=\"ansi-green-fg\">Unit</span></span>, <span style=\"color: rgb(0, 187, 0)\"><span class=\"ansi-green-fg\">Unit</span></span>]] =&gt; <span style=\"color: rgb(0, 187, 0)\"><span class=\"ansi-green-fg\">Boolean</span></span> = <span style=\"color: white\"><span class=\"ansi-white-fg\">[lazy]</span></span></code></pre>\n",
       "</div>"
      ],
      "text/plain": [
       "\u001b[36mf1\u001b[39m: \u001b[32mEither\u001b[39m[\u001b[32mUnit\u001b[39m, \u001b[32mEither\u001b[39m[\u001b[32mUnit\u001b[39m, \u001b[32mUnit\u001b[39m]] => \u001b[32mBoolean\u001b[39m = \u001b[37m[lazy]\u001b[39m"
      ]
     },
     "metadata": {},
     "output_type": "display_data"
    }
   ],
   "source": [
    "lazy val f1: Either[Unit, Either[Unit, Unit]] => Boolean = \n",
    "    e => e match {\n",
    "        case Left(()) =>\n",
    "            false\n",
    "        case Right(Left(())) =>\n",
    "            false\n",
    "        case Right(Right(())) =>\n",
    "            false\n",
    "    }"
   ]
  },
  {
   "cell_type": "markdown",
   "metadata": {},
   "source": [
    "## Exercise 3"
   ]
  },
  {
   "cell_type": "markdown",
   "metadata": {},
   "source": [
    "How many different implementations are there of the following function signature? Recall that two implementations will be considered different if the corresponding mathematical functions are different. Write all of them."
   ]
  },
  {
   "cell_type": "code",
   "execution_count": null,
   "metadata": {},
   "outputs": [],
   "source": [
    "// 3 ^ 2 = 9\n",
    "def f1(b: Boolean): Either[Unit, Either[Unit, Unit]] = b match {\n",
    "    case false =>\n",
    "        Left(())\n",
    "    case true =>\n",
    "        Left(())\n",
    "}\n",
    "\n",
    "def f2(b: Boolean): Either[Unit, Either[Unit, Unit]] = b match {\n",
    "    case false =>\n",
    "        Left(())\n",
    "    case true =>\n",
    "        Right(Left(()))\n",
    "}\n",
    "\n",
    "def f3(b: Boolean): Either[Unit, Either[Unit, Unit]] = b match {\n",
    "    case false =>\n",
    "        Left(())\n",
    "    case true =>\n",
    "        Right(Right(()))\n",
    "}\n",
    "\n",
    "def f4(b: Boolean): Either[Unit, Either[Unit, Unit]] = b match {\n",
    "    case false =>\n",
    "        Right(Left(()))\n",
    "    case true =>\n",
    "        Left(())\n",
    "}\n",
    "\n",
    "def f5(b: Boolean): Either[Unit, Either[Unit, Unit]] = b match {\n",
    "    case false =>\n",
    "        Right(Left(()))\n",
    "    case true =>\n",
    "        Right(Left(()))\n",
    "}\n",
    "\n",
    "def f6(b: Boolean): Either[Unit, Either[Unit, Unit]] = b match {\n",
    "    case false =>\n",
    "        Right(Left(()))\n",
    "    case true =>\n",
    "        Right(Right(()))\n",
    "}\n",
    "\n",
    "def f7(b: Boolean): Either[Unit, Either[Unit, Unit]] = b match {\n",
    "    case false =>\n",
    "        Right(Right(()))\n",
    "    case true =>\n",
    "        Left(())\n",
    "}\n",
    "\n",
    "def f8(b: Boolean): Either[Unit, Either[Unit, Unit]] = b match {\n",
    "    case false =>\n",
    "        Right(Right(()))\n",
    "    case true =>\n",
    "        Right(Left(()))\n",
    "}\n",
    "\n",
    "def f9(b: Boolean): Either[Unit, Either[Unit, Unit]] = b match {\n",
    "    case false =>\n",
    "        Right(Right(()))\n",
    "    case true =>\n",
    "        Right(Right(()))\n",
    "}"
   ]
  },
  {
   "cell_type": "markdown",
   "metadata": {},
   "source": [
    "\n",
    "\n",
    "## Exercise 4"
   ]
  },
  {
   "cell_type": "markdown",
   "metadata": {},
   "source": [
    "Show that the following law holds for exponent types: $(Z^Y)^X \\cong Z^{Y*X}$, for all types $X$, $Y$ and $Z$."
   ]
  },
  {
   "cell_type": "code",
   "execution_count": 4,
   "metadata": {},
   "outputs": [
    {
     "data": {
      "text/plain": [
       "defined \u001b[32mfunction\u001b[39m \u001b[36mcurry\u001b[39m"
      ]
     },
     "execution_count": 4,
     "metadata": {},
     "output_type": "execute_result"
    }
   ],
   "source": [
    "def curry[X, Y, Z](f: (X, Y) => Z): X => Y => Z = \n",
    "    x => y => f(x, y)"
   ]
  },
  {
   "cell_type": "code",
   "execution_count": 5,
   "metadata": {},
   "outputs": [
    {
     "data": {
      "text/plain": [
       "defined \u001b[32mfunction\u001b[39m \u001b[36muncurry\u001b[39m"
      ]
     },
     "execution_count": 5,
     "metadata": {},
     "output_type": "execute_result"
    }
   ],
   "source": [
    "def uncurry[X, Y, Z](f: X => Y => Z): (X, Y) => Z = \n",
    "    (x, y) => f(x)(y)"
   ]
  },
  {
   "cell_type": "markdown",
   "metadata": {},
   "source": [
    "Implement function equality for the following signatures and check that both functions, `curry` and `uncurry`, are inverses of each other for two sample functions $ex1$ and $ex2$:  "
   ]
  },
  {
   "cell_type": "code",
   "execution_count": 8,
   "metadata": {},
   "outputs": [
    {
     "data": {
      "text/plain": [
       "defined \u001b[32mfunction\u001b[39m \u001b[36mequal1\u001b[39m"
      ]
     },
     "execution_count": 8,
     "metadata": {},
     "output_type": "execute_result"
    }
   ],
   "source": [
    "def equal1(f1: Boolean => Boolean => Boolean, \n",
    "          f2: Boolean => Boolean => Boolean): Boolean = \n",
    "    f1(false)(false) == f2(false)(false) &&\n",
    "    f1(false)(true) == f2(false)(true) &&\n",
    "    f1(true)(false) == f2(true)(false) &&\n",
    "    f1(true)(true) == f2(true)(true)"
   ]
  },
  {
   "cell_type": "code",
   "execution_count": 9,
   "metadata": {},
   "outputs": [
    {
     "data": {
      "text/plain": [
       "defined \u001b[32mfunction\u001b[39m \u001b[36mequal2\u001b[39m"
      ]
     },
     "execution_count": 9,
     "metadata": {},
     "output_type": "execute_result"
    }
   ],
   "source": [
    "def equal2(f1: (Boolean, Boolean) => Boolean, \n",
    "          f2: (Boolean, Boolean) => Boolean): Boolean = \n",
    "    f1(false, false) == f2(false, false) &&\n",
    "    f1(false, true) == f2(false, true) &&\n",
    "    f1(true, false) == f2(true, false) &&\n",
    "    f1(true, true) == f2(true, true)"
   ]
  },
  {
   "cell_type": "code",
   "execution_count": 7,
   "metadata": {},
   "outputs": [
    {
     "data": {
      "text/plain": [
       "defined \u001b[32mfunction\u001b[39m \u001b[36mex1\u001b[39m\n",
       "defined \u001b[32mfunction\u001b[39m \u001b[36mex2\u001b[39m"
      ]
     },
     "execution_count": 7,
     "metadata": {},
     "output_type": "execute_result"
    }
   ],
   "source": [
    "def ex1: Boolean => Boolean => Boolean = \n",
    "    _ => _ => false\n",
    "\n",
    "def ex2: (Boolean, Boolean) => Boolean = \n",
    "    (_, _) => false"
   ]
  },
  {
   "cell_type": "code",
   "execution_count": 11,
   "metadata": {},
   "outputs": [
    {
     "data": {
      "text/plain": [
       "\u001b[36mres10_0\u001b[39m: \u001b[32mBoolean\u001b[39m = true\n",
       "\u001b[36mres10_1\u001b[39m: \u001b[32mBoolean\u001b[39m = true"
      ]
     },
     "execution_count": 11,
     "metadata": {},
     "output_type": "execute_result"
    }
   ],
   "source": [
    "// Check that curry and uncurry are inverses of each other for sample\n",
    "// functions `ex1` and `ex2`\n",
    "equal1(curry(uncurry(ex1)), ex1)\n",
    "equal2(uncurry(curry(ex2)), ex2)"
   ]
  },
  {
   "cell_type": "markdown",
   "metadata": {},
   "source": [
    "## Exercise 5"
   ]
  },
  {
   "cell_type": "markdown",
   "metadata": {},
   "source": [
    "Shows that the following law holds for exponent types: $(Y*Z)^X \\cong Y^X*Z^X$, for all types $X$, $Y$ and $Z$."
   ]
  },
  {
   "cell_type": "code",
   "execution_count": 13,
   "metadata": {},
   "outputs": [
    {
     "data": {
      "text/plain": [
       "defined \u001b[32mfunction\u001b[39m \u001b[36mfrom\u001b[39m"
      ]
     },
     "execution_count": 13,
     "metadata": {},
     "output_type": "execute_result"
    }
   ],
   "source": [
    "// (Y * Z) ^ X -> X => (Y, Z)\n",
    "def from[X, Y, Z](f: X => (Y, Z)): (X => Y, X => Z) =\n",
    "    (x => f(x)._1, x => f(x)._2)"
   ]
  },
  {
   "cell_type": "code",
   "execution_count": 14,
   "metadata": {},
   "outputs": [
    {
     "data": {
      "text/plain": [
       "defined \u001b[32mfunction\u001b[39m \u001b[36mto\u001b[39m"
      ]
     },
     "execution_count": 14,
     "metadata": {},
     "output_type": "execute_result"
    }
   ],
   "source": [
    "// (Y ^ X) * (Z ^ X) -> (X => Y, X => Z)\n",
    "def to[X, Y, Z](t: (X => Y, X => Z)): X => (Y, Z) =\n",
    "    x => (t._1(x), t._2(x))"
   ]
  },
  {
   "cell_type": "markdown",
   "metadata": {},
   "source": [
    "Fix the type parameters to particular types $A$, $B$ and $C$, implement equality for the corresponding signatures and check that both functions, `from[A, B, C]` and `to[A, B, C]`, are inverses of each other given two sample functions of your choice.  "
   ]
  },
  {
   "cell_type": "code",
   "execution_count": 19,
   "metadata": {},
   "outputs": [
    {
     "data": {
      "text/plain": [
       "defined \u001b[32mfunction\u001b[39m \u001b[36mequal0\u001b[39m\n",
       "defined \u001b[32mfunction\u001b[39m \u001b[36mequal1\u001b[39m"
      ]
     },
     "execution_count": 19,
     "metadata": {},
     "output_type": "execute_result"
    }
   ],
   "source": [
    "def equal0(f1: Boolean => Boolean, f2: Boolean => Boolean): Boolean =\n",
    "    f1(false) == f2(false) &&\n",
    "    f1(true) == f2(true)\n",
    "\n",
    "def equal1(t1: (Boolean => Boolean, Boolean => Boolean), \n",
    "           t2: (Boolean => Boolean, Boolean => Boolean)): Boolean =\n",
    "    equal0(t1._1, t2._1) && equal0(t1._2, t2._2)"
   ]
  },
  {
   "cell_type": "code",
   "execution_count": 21,
   "metadata": {},
   "outputs": [
    {
     "data": {
      "text/plain": [
       "defined \u001b[32mfunction\u001b[39m \u001b[36mequal2\u001b[39m"
      ]
     },
     "execution_count": 21,
     "metadata": {},
     "output_type": "execute_result"
    }
   ],
   "source": [
    "def equal2(f1: Boolean => (Boolean, Boolean), f2: Boolean => (Boolean, Boolean)): Boolean =\n",
    "    f1(false) == f2(false) &&\n",
    "    f1(true) == f2(true)"
   ]
  },
  {
   "cell_type": "code",
   "execution_count": 16,
   "metadata": {},
   "outputs": [
    {
     "data": {
      "text/plain": [
       "defined \u001b[32mfunction\u001b[39m \u001b[36mex1\u001b[39m\n",
       "defined \u001b[32mfunction\u001b[39m \u001b[36mex2\u001b[39m"
      ]
     },
     "execution_count": 16,
     "metadata": {},
     "output_type": "execute_result"
    }
   ],
   "source": [
    "def ex1: (Boolean => Boolean, Boolean => Boolean) = \n",
    "    (_ => false, _ => false)\n",
    "\n",
    "def ex2: Boolean => (Boolean, Boolean) = \n",
    "    _ => (false, false)"
   ]
  },
  {
   "cell_type": "code",
   "execution_count": 22,
   "metadata": {},
   "outputs": [
    {
     "data": {
      "text/plain": [
       "\u001b[36mres21_0\u001b[39m: \u001b[32mBoolean\u001b[39m = true\n",
       "\u001b[36mres21_1\u001b[39m: \u001b[32mBoolean\u001b[39m = true"
      ]
     },
     "execution_count": 22,
     "metadata": {},
     "output_type": "execute_result"
    }
   ],
   "source": [
    "equal1(from(to(ex1)), ex1)\n",
    "equal2(to(from(ex2)), ex2)"
   ]
  }
 ],
 "metadata": {
  "kernelspec": {
   "display_name": "Scala",
   "language": "scala",
   "name": "scala"
  },
  "language_info": {
   "codemirror_mode": "text/x-scala",
   "file_extension": ".sc",
   "mimetype": "text/x-scala",
   "name": "scala",
   "nbconvert_exporter": "script",
   "version": "2.13.16"
  }
 },
 "nbformat": 4,
 "nbformat_minor": 4
}
