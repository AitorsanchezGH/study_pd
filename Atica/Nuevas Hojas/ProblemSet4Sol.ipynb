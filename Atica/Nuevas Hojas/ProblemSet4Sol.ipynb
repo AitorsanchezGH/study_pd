{
 "cells": [
  {
   "cell_type": "markdown",
   "metadata": {},
   "source": [
    "# Declarative Programming @ URJC\n",
    "# Functional programming\n",
    "## Problem Set 4: The Curry-Howard correspondence"
   ]
  },
  {
   "cell_type": "code",
   "execution_count": null,
   "metadata": {},
   "outputs": [],
   "source": [
    "type Not[P] = P => Nothing\n",
    "type <=>[P, Q] = (P => Q, Q => P)"
   ]
  },
  {
   "cell_type": "markdown",
   "metadata": {},
   "source": [
    "## Exercise 1"
   ]
  },
  {
   "cell_type": "markdown",
   "metadata": {},
   "source": [
    "Prove the following theorems of intuitionistic propositional logic by implementing the corresponding\n",
    "functional programs:\n",
    "\n",
    "$\\vdash p \\vee (q \\wedge r) \\leftrightarrow (p \\vee q) \\wedge (p \\vee r)$\n",
    "\n",
    "$\\vdash (q \\vee r \\rightarrow p) \\leftrightarrow (q \\rightarrow p) \\wedge (r \\rightarrow p)$\n",
    "\n",
    "$\\vdash p \\vee q \\rightarrow \\neg p \\rightarrow q$ \n",
    "\n",
    "$\\vdash p \\vee q \\rightarrow q \\vee p$\n",
    "\n",
    "$\\vdash (p \\rightarrow \\neg q) \\rightarrow (p \\rightarrow q) \\rightarrow \\neg p$\n",
    "\n",
    "$\\vdash \\neg p \\rightarrow p \\rightarrow q$\n",
    "\n",
    "$\\vdash \\neg(p \\rightarrow q) \\rightarrow \\neg q$\n",
    "\n",
    "$\\vdash \\neg p \\rightarrow \\neg (p \\wedge q)$\n",
    "\n",
    "$\\vdash \\neg (p \\wedge q) \\rightarrow p \\rightarrow \\neg q$\n",
    "\n",
    "$\\vdash \\neg (p \\wedge \\neg p)$\n",
    "\n",
    "$\\vdash \\neg (p \\vee q) \\rightarrow \\neg p \\wedge \\neg q$\n",
    "\n",
    "$\\vdash \\neg p \\wedge \\neg q \\rightarrow \\neg (p \\vee q)$"
   ]
  },
  {
   "cell_type": "markdown",
   "metadata": {},
   "source": [
    "\n",
    "$\\vdash p \\vee (q \\wedge r) \\leftrightarrow (p \\vee q) \\wedge (p \\vee r)$"
   ]
  },
  {
   "cell_type": "code",
   "execution_count": null,
   "metadata": {},
   "outputs": [],
   "source": [
    "def proofAux[P, Q, R]: (Either[P, (Q, R)] => (Either[P, Q], Either[P, R]), (Either[P, Q], Either[P, R]) => Either[P, (Q, R)]) =\n",
    "    ({\n",
    "        case Left(p) =>\n",
    "            (Left(p), Left(p))\n",
    "        case Right((q, r)) =>\n",
    "            (Right(q), Right(r))\n",
    "    }, {\n",
    "        case (Left(p), _) =>\n",
    "            Left(p)\n",
    "        case (_, Left(p)) =>\n",
    "            Left(p)\n",
    "        case (Right(q), Right(r)) =>\n",
    "            Right((q, r))\n",
    "    })\n",
    "\n",
    "def proof[P, Q, R]: Either[P, (Q, R)] <=> (Either[P, Q], Either[P, R]) = \n",
    "    ({\n",
    "        case Left(p) =>\n",
    "            (Left(p), Left(p))\n",
    "        case Right((q, r)) =>\n",
    "            (Right(q), Right(r))\n",
    "    }, {\n",
    "        case (Left(p), _) =>\n",
    "            Left(p)\n",
    "        case (_, Left(p)) =>\n",
    "            Left(p)\n",
    "        case (Right(q), Right(r)) =>\n",
    "            Right((q, r))\n",
    "    })"
   ]
  },
  {
   "cell_type": "markdown",
   "metadata": {},
   "source": [
    "$\\vdash (q \\vee r \\rightarrow p) \\leftrightarrow (q \\rightarrow p) \\wedge (r \\rightarrow p)$"
   ]
  },
  {
   "cell_type": "code",
   "execution_count": null,
   "metadata": {},
   "outputs": [],
   "source": [
    "// type <=>[P, Q] = (P => Q, Q => P)\n",
    "def proofAux[P, Q, R]: ((Either[Q, R] => P) => (Q => P, R => P), (Q => P, R => P) => (Either[Q, R] => P)) =\n",
    "    ({\n",
    "        case f => (q => f(Left(q)), r => f(Right(r)))\n",
    "    }, {\n",
    "        case (qp, rp) => (e => e match {\n",
    "            case Left(q) =>\n",
    "                qp(q)\n",
    "            case Right(r) =>\n",
    "                rp(r)\n",
    "        })\n",
    "    })\n",
    "\n",
    "def proof[P, Q, R]: (Either[Q, R] => P) <=> (Q => P, R => P) = \n",
    "    ({\n",
    "        case f => (q => f(Left(q)), r => f(Right(r)))\n",
    "    }, {\n",
    "        case (qp, rp) => (e => e match {\n",
    "            case Left(p) =>\n",
    "                qp(p)\n",
    "            case Right(r) =>\n",
    "                rp(r)\n",
    "        })\n",
    "    })"
   ]
  },
  {
   "cell_type": "markdown",
   "metadata": {},
   "source": [
    "$\\vdash p \\vee q \\rightarrow \\neg p \\rightarrow q$ "
   ]
  },
  {
   "cell_type": "code",
   "execution_count": null,
   "metadata": {},
   "outputs": [],
   "source": [
    "def proof[P, Q]: Either[P, Q] => ((P => Nothing) => Q) = \n",
    "    pvq => (np => pvq match {\n",
    "        case Left(p) =>\n",
    "            np(p)\n",
    "        case Right(q) =>\n",
    "            q\n",
    "    })"
   ]
  },
  {
   "cell_type": "markdown",
   "metadata": {},
   "source": [
    "$\\vdash p \\vee q \\rightarrow q \\vee p$"
   ]
  },
  {
   "cell_type": "code",
   "execution_count": null,
   "metadata": {},
   "outputs": [],
   "source": [
    "def proof[P, Q]: Either[P, Q] => Either[Q, P] = {\n",
    "    case Left(p) =>\n",
    "        Right(p)\n",
    "    case Right(q) =>\n",
    "        Left(q)\n",
    "}"
   ]
  },
  {
   "cell_type": "markdown",
   "metadata": {},
   "source": [
    "$\\vdash (p \\rightarrow \\neg q) \\rightarrow (p \\rightarrow q) \\rightarrow \\neg p$"
   ]
  },
  {
   "cell_type": "code",
   "execution_count": null,
   "metadata": {},
   "outputs": [],
   "source": [
    "def proofAux[P, Q]: (P => (Q => Nothing)) => (P => Q) => (P => Nothing) =\n",
    "    pnq => pq => p => pnq(p)(pq(p))\n",
    "\n",
    "def proof[P, Q]: (P => Not[Q]) => (P => Q) => Not[P] = \n",
    "    pnq => pq => p => pnq(p)(pq(p))"
   ]
  },
  {
   "cell_type": "markdown",
   "metadata": {},
   "source": [
    "$\\vdash \\neg p \\rightarrow p \\rightarrow q$"
   ]
  },
  {
   "cell_type": "code",
   "execution_count": null,
   "metadata": {},
   "outputs": [],
   "source": [
    "def proofAux[P, Q]: (P => Nothing) => P => Q =\n",
    "    np => p => np(p)\n",
    "\n",
    "def proof[P, Q]: Not[P] => P => Q = \n",
    "    np => p => np(p)"
   ]
  },
  {
   "cell_type": "markdown",
   "metadata": {},
   "source": [
    "$\\vdash \\neg(p \\rightarrow q) \\rightarrow \\neg q$"
   ]
  },
  {
   "cell_type": "code",
   "execution_count": null,
   "metadata": {},
   "outputs": [],
   "source": [
    "def proofAux[P, Q]: ((P => Q) => Nothing) => (Q => Nothing) =\n",
    "    npq => q => npq((p: P) => q)\n",
    "\n",
    "def proof[P, Q]: Not[P => Q] => Not[Q] = \n",
    "    npq => q => npq(p => q)"
   ]
  },
  {
   "cell_type": "markdown",
   "metadata": {},
   "source": [
    "$\\vdash \\neg p \\rightarrow \\neg (p \\wedge q)$"
   ]
  },
  {
   "cell_type": "code",
   "execution_count": null,
   "metadata": {},
   "outputs": [],
   "source": [
    "def proofAux[P, Q]: (P => Nothing) => (((P, Q)) => Nothing) =\n",
    "    np => npaq => np(npaq._1)\n",
    "\n",
    "def proof[P, Q]: Not[P] => Not[(P, Q)] = \n",
    "    np => npaq => np(npaq._1)"
   ]
  },
  {
   "cell_type": "markdown",
   "metadata": {},
   "source": [
    "$\\vdash \\neg (p \\wedge q) \\rightarrow p \\rightarrow \\neg q$"
   ]
  },
  {
   "cell_type": "code",
   "execution_count": null,
   "metadata": {},
   "outputs": [],
   "source": [
    "def proofAux[P, Q]: (((P, Q)) => Nothing) => P => (Q => Nothing) =\n",
    "    npaq => p => q => npaq((p, q))\n",
    "\n",
    "def proof[P, Q]: Not[(P, Q)] => P => Not[Q] = \n",
    "    npaq => p => q => npaq((p, q))"
   ]
  },
  {
   "cell_type": "markdown",
   "metadata": {},
   "source": [
    "$\\vdash \\neg (p \\wedge \\neg p)$"
   ]
  },
  {
   "cell_type": "code",
   "execution_count": null,
   "metadata": {},
   "outputs": [],
   "source": [
    "def proofAux[P]: (((P, P => Nothing)) => Nothing) =\n",
    "    n_panp => n_panp match {\n",
    "      case (p, notp) =>\n",
    "            notp(p)\n",
    "    }\n",
    "\n",
    "def proof[P]: Not[(P, Not[P])] = \n",
    "    n_panp => n_panp._2(n_panp._1)"
   ]
  },
  {
   "cell_type": "markdown",
   "metadata": {},
   "source": [
    "$\\vdash \\neg (p \\vee q) \\rightarrow \\neg p \\wedge \\neg q$"
   ]
  },
  {
   "cell_type": "code",
   "execution_count": null,
   "metadata": {},
   "outputs": [],
   "source": [
    "def proffAux[P, Q]: (Either[P, Q] => Nothing) => (P => Nothing, Q => Nothing) =\n",
    "    n_poq => (p => n_poq(Left(p)), q => n_poq(Right(q)))\n",
    "\n",
    "def proof[P, Q]: Not[Either[P, Q]] => (Not[P], Not[Q]) = \n",
    "    n_poq => (p => n_poq(Left(p)), q => n_poq(Right(q)))"
   ]
  },
  {
   "cell_type": "markdown",
   "metadata": {},
   "source": [
    "$\\vdash \\neg p \\wedge \\neg q \\rightarrow \\neg (p \\vee q)$"
   ]
  },
  {
   "cell_type": "code",
   "execution_count": null,
   "metadata": {},
   "outputs": [],
   "source": [
    "def proofAux[P, Q]: (P => Nothing, Q => Nothing) => (Either[P, Q] => Nothing) =\n",
    "    (np, nq) => ???\n",
    "\n",
    "def proof[P, Q]: (Not[P], Not[Q]) => Not[Either[P, Q]] = \n",
    "    (np, nq) => e => e match {\n",
    "        case Left(p) =>\n",
    "            np(p)\n",
    "        case Right(q) =>\n",
    "            nq(q)\n",
    "    }"
   ]
  },
  {
   "cell_type": "markdown",
   "metadata": {},
   "source": [
    "## Exercise 2"
   ]
  },
  {
   "cell_type": "markdown",
   "metadata": {},
   "source": [
    "Proof the following theorem of classical logic assuming that the double negation law holds for proposition `P`:\n",
    "\n",
    "$ \\vdash (\\neg p \\rightarrow p) \\rightarrow p$"
   ]
  },
  {
   "cell_type": "code",
   "execution_count": null,
   "metadata": {},
   "outputs": [],
   "source": [
    "def proofAux[P](dn: ((P => Nothing) => Nothing) => P): ((P => Nothing) => P) => P =\n",
    "    f => dn((n: (P => Nothing)) => n(f(n)))\n",
    "\n",
    "def proof[P](dn: Not[Not[P]] => P): (Not[P] => P) => P =\n",
    "    f => dn((n: Not[P]) => n(f(n)))"
   ]
  },
  {
   "cell_type": "markdown",
   "metadata": {},
   "source": [
    "## Exercise 3"
   ]
  },
  {
   "cell_type": "markdown",
   "metadata": {},
   "source": [
    "Proof the following theorems of intuitionistic propositional logic using functional programs: "
   ]
  },
  {
   "cell_type": "markdown",
   "metadata": {},
   "source": [
    "$ \\vdash (p \\rightarrow (q \\rightarrow r)) \\rightarrow (p \\rightarrow q) \\rightarrow p \\rightarrow r$"
   ]
  },
  {
   "cell_type": "code",
   "execution_count": null,
   "metadata": {},
   "outputs": [],
   "source": [
    "def proof[P, Q, R]: (P => (Q => R)) => (P => Q) => P => R =\n",
    "    pqr => pq => p => pqr(p)(pq(p))"
   ]
  },
  {
   "cell_type": "markdown",
   "metadata": {},
   "source": [
    "$\\vdash \\neg \\neg \\neg p \\leftrightarrow \\neg p$"
   ]
  },
  {
   "cell_type": "code",
   "execution_count": null,
   "metadata": {},
   "outputs": [],
   "source": [
    "def proofAux[P]: ((((P => Nothing) => Nothing) => Nothing) => (P => Nothing), \n",
    "                  (P => Nothing) => ((P => Nothing) => Nothing) => Nothing) =\n",
    "    ({\n",
    "        case nnnp => (p => nnnp((n: (P => Nothing)) => n(n(p))))\n",
    "    }, {\n",
    "        case np => (n: (P => Nothing) => Nothing) => n((p: P) => np(p))\n",
    "    })\n",
    "\n",
    "def proof[P]: Not[Not[Not[P]]] <=> Not[P] =\n",
    "    ({\n",
    "        case nnnp => (p => nnnp((n: Not[P]) => n(n(p))))\n",
    "    }, {\n",
    "        case np => (n: (P => Nothing) => Nothing) => n((p: P) => np(p))\n",
    "    })"
   ]
  },
  {
   "cell_type": "markdown",
   "metadata": {},
   "source": [
    "## Exercise 4\n",
    "\n",
    "\n",
    "Solve the following exercises (taken from the course on logic) using functional programming. \n",
    "\n",
    "![img1.png](attachment:img1.png)"
   ]
  },
  {
   "cell_type": "code",
   "execution_count": null,
   "metadata": {},
   "outputs": [],
   "source": [
    "// p1: Either[P, Either[Q, R]]\n",
    "// p2: Either[P => Nothing, S]\n",
    "// p3: S => R\n",
    "// Nota: Nothing sirve para construir cualquier 'cosa', es decir, Nothing se corresponde con R\n",
    "def proof[P, Q, R, S](\n",
    "    p1: Either[P, Either[Q, R]], \n",
    "    p2: Either[Not[P], S], \n",
    "    p3: S => R): Not[Q] => R = // (Q => Nothing) => R\n",
    "    notq => (p1, p2) match { // Tenemos !Q, solo hay que hallar R\n",
    "        case (Left(p), Left(notp)) =>\n",
    "            notp(p)\n",
    "        case (Left(p), Right(s)) => // case (_, Right(s)) => \n",
    "            p3(s)\n",
    "        case (Right(Left(q)), Left(notp)) => // case (Right(Left(q)), _) =>\n",
    "            notq(q)\n",
    "        case (Right(Left(q)), Right(s)) => // case (_, Right(s)) =>\n",
    "            p3(s)\n",
    "        case (Right(Right(r)), _) =>\n",
    "            r\n",
    "    }"
   ]
  },
  {
   "cell_type": "markdown",
   "metadata": {},
   "source": [
    "![img2.png](attachment:img2.png)"
   ]
  },
  {
   "cell_type": "code",
   "execution_count": null,
   "metadata": {},
   "outputs": [],
   "source": [
    "// p1: P => Either[Q, R => Nothing]\n",
    "// p2: Either[R, Q => Nothing]\n",
    "// p3: (Q => Nothing) => R\n",
    "// p4: R => Q => Nothing\n",
    "def proof[P, Q, R](\n",
    "    p1: P => Either[Q, Not[R]], \n",
    "    p2: Either[R, Not[Q]], \n",
    "    p3: Not[Q] => R,\n",
    "    p4: R => Not[Q]): Not[P] = // Devuelve P => Nothing\n",
    "    p => (p1(p), p2) match { // Tenemos P, solo hay que hallar Nothing\n",
    "        case (Left(q), Left(r)) => // Q ^ R\n",
    "            p4(r)(q)\n",
    "        case (Left(q), Right(notq)) => // Q ^ !Q\n",
    "            notq(q)\n",
    "        case (Right(notr), Left(r)) => // !R ^ R\n",
    "            notr(r)\n",
    "        case (Right(notr), Right(notq)) => // !R ^ !Q\n",
    "            notr(p3(notq))\n",
    "    }\n",
    "    "
   ]
  }
 ],
 "metadata": {
  "kernelspec": {
   "display_name": "Scala",
   "language": "scala",
   "name": "scala"
  },
  "language_info": {
   "codemirror_mode": "text/x-scala",
   "file_extension": ".scala",
   "mimetype": "text/x-scala",
   "name": "scala",
   "nbconvert_exporter": "script",
   "version": "2.12.9"
  }
 },
 "nbformat": 4,
 "nbformat_minor": 4
}
