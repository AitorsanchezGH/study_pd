{
 "cells": [
  {
   "cell_type": "markdown",
   "metadata": {},
   "source": [
    "# PD @ Academia Ática\n",
    "# Programación Funcional\n",
    "## Correspondencia de Curry-Howard & Tipos Algebraicos de Datos"
   ]
  },
  {
   "cell_type": "code",
   "execution_count": null,
   "metadata": {},
   "outputs": [],
   "source": [
    "import $ivy.`org.scalatest::scalatest:3.0.8`\n",
    "import org.scalatest._"
   ]
  },
  {
   "cell_type": "code",
   "execution_count": null,
   "metadata": {},
   "outputs": [],
   "source": [
    "type Not[P] = P => Nothing\n",
    "type <=>[P, Q] = (P => Q, Q => P)"
   ]
  },
  {
   "cell_type": "markdown",
   "metadata": {},
   "source": [
    "## Ejercicios Curry Howard"
   ]
  },
  {
   "cell_type": "markdown",
   "metadata": {},
   "source": [
    "$\\{q \\rightarrow \\neg p, r \\vee p\\} \\vdash \\neg r \\rightarrow \\neg q$"
   ]
  },
  {
   "cell_type": "code",
   "execution_count": null,
   "metadata": {},
   "outputs": [],
   "source": []
  },
  {
   "cell_type": "markdown",
   "metadata": {},
   "source": [
    "$\\{p \\rightarrow q \\rightarrow r, \\neg s \\vee p, q\\} \\vdash s \\rightarrow r$"
   ]
  },
  {
   "cell_type": "code",
   "execution_count": null,
   "metadata": {},
   "outputs": [],
   "source": []
  },
  {
   "cell_type": "markdown",
   "metadata": {},
   "source": [
    "$\\{s \\rightarrow t \\rightarrow u, u \\rightarrow \\neg u, (v \\rightarrow s) \\wedge (p \\rightarrow t)\\} \\vdash v \\rightarrow \\neg p$"
   ]
  },
  {
   "cell_type": "code",
   "execution_count": null,
   "metadata": {},
   "outputs": [],
   "source": []
  },
  {
   "cell_type": "markdown",
   "metadata": {},
   "source": [
    "$\\{p \\vee q, p \\rightarrow r, q \\rightarrow s \\wedge r\\} \\vdash r$"
   ]
  },
  {
   "cell_type": "code",
   "execution_count": null,
   "metadata": {},
   "outputs": [],
   "source": []
  },
  {
   "cell_type": "markdown",
   "metadata": {},
   "source": [
    "$\\{p \\vee q, p \\rightarrow r \\vee \\neg t, q \\rightarrow s \\wedge r\\} \\vdash t \\rightarrow r$"
   ]
  },
  {
   "cell_type": "code",
   "execution_count": null,
   "metadata": {},
   "outputs": [],
   "source": []
  },
  {
   "cell_type": "markdown",
   "metadata": {},
   "source": [
    "$\\{p \\vee q \\vee r, \\neg p \\vee s, s \\rightarrow r\\} \\vdash \\neg q \\rightarrow r$"
   ]
  },
  {
   "cell_type": "code",
   "execution_count": null,
   "metadata": {},
   "outputs": [],
   "source": []
  },
  {
   "cell_type": "markdown",
   "metadata": {},
   "source": [
    "$\\{p \\rightarrow q \\vee \\neg r, r \\vee \\neg q, \\neg q \\rightarrow r, r \\rightarrow \\neg q\\} \\vdash \\neg p$"
   ]
  },
  {
   "cell_type": "code",
   "execution_count": null,
   "metadata": {},
   "outputs": [],
   "source": []
  },
  {
   "cell_type": "markdown",
   "metadata": {},
   "source": [
    "$\\vdash (p \\rightarrow q \\wedge r) \\wedge \\neg q \\rightarrow \\neg p$"
   ]
  },
  {
   "cell_type": "code",
   "execution_count": null,
   "metadata": {},
   "outputs": [],
   "source": []
  },
  {
   "cell_type": "markdown",
   "metadata": {},
   "source": [
    "$\\{p \\vee q \\vee r, p \\rightarrow s, \\neg r \\rightarrow \\neg s\\} \\vdash \\neg r \\rightarrow q$"
   ]
  },
  {
   "cell_type": "code",
   "execution_count": null,
   "metadata": {},
   "outputs": [],
   "source": []
  },
  {
   "cell_type": "markdown",
   "metadata": {},
   "source": [
    "## Ejercicios Tipos Algebraicos Datos"
   ]
  },
  {
   "cell_type": "markdown",
   "metadata": {},
   "source": [
    "Demuestra el siguiente isomorfismo entre tipos algebraicos de datos para todo tipo $A$ y para todo tipo $B$: \n",
    "\n",
    "$(A + B)^2 \\cong A^2 + 2 * A * B + B^2$ \n",
    "\n",
    "de tal forma que se verifique el siguiente test unitario para $A = B = Int$:"
   ]
  },
  {
   "cell_type": "code",
   "execution_count": null,
   "metadata": {},
   "outputs": [],
   "source": [
    "class IsoTest(\n",
    "    from: ((Either[Int, Int], Either[Int, Int])) => \n",
    "            Either[(Int, Int), Either[(Int, Int), Either[(Int, Int), (Int, Int)]]],\n",
    "    to: Either[(Int, Int), Either[(Int, Int), Either[(Int, Int), (Int, Int)]]] => \n",
    "            (Either[Int, Int], Either[Int, Int])\n",
    ") extends FlatSpec with Matchers { \n",
    "    \"from-to\" should \"work\" in {\n",
    "        from(to(Left((1, 1)))) shouldBe Left((1, 1))\n",
    "        from(to(Right(Left((1, 2))))) shouldBe Right(Left((1, 2)))\n",
    "        from(to(Right(Right(Left((1, 2)))))) shouldBe Right(Right(Left((1, 2))))\n",
    "        from(to(Right(Right(Right((2, 2)))))) shouldBe Right(Right(Right((2, 2))))\n",
    "    }\n",
    "    \n",
    "    \"to-from\" should \"work\" in {\n",
    "        to(from((Left(1), Left(1)))) shouldBe (Left(1), Left(1))\n",
    "        to(from((Left(1), Right(2)))) shouldBe (Left(1), Right(2))\n",
    "        to(from((Right(2), Left(1)))) shouldBe (Right(2), Left(1))\n",
    "        to(from((Right(2), Right(2)))) shouldBe (Right(2), Right(2))\n",
    "    }\n",
    "}"
   ]
  },
  {
   "cell_type": "code",
   "execution_count": null,
   "metadata": {},
   "outputs": [],
   "source": [
    "def from[A, B](l: (Either[A, B], Either[A, B])): Either[(A, A), Either[(A, B), Either[(A, B), (B, B)]]] = \n",
    "    ???"
   ]
  },
  {
   "cell_type": "code",
   "execution_count": null,
   "metadata": {},
   "outputs": [],
   "source": [
    "def to[A, B](l: Either[(A, A), Either[(A, B), Either[(A, B), (B, B)]]]): (Either[A, B], Either[A, B]) = \n",
    "    ???"
   ]
  },
  {
   "cell_type": "code",
   "execution_count": null,
   "metadata": {},
   "outputs": [],
   "source": [
    "run(new IsoTest(from, to))"
   ]
  },
  {
   "cell_type": "markdown",
   "metadata": {},
   "source": [
    "Demuestra el siguiente isomorfismo entre tipos algebraicos de datos para todo tipo $X$, para todo tipo $A$ y para todo tipo $B$: \n",
    "\n",
    "$(X + A) * (X + B) \\cong X^2 + (A + B) * X + A * B$ \n",
    "\n",
    "de tal forma que se verifique el siguiente test unitario para $X = A = B = Boolean$:"
   ]
  },
  {
   "cell_type": "code",
   "execution_count": null,
   "metadata": {},
   "outputs": [],
   "source": [
    "class IsoTest(\n",
    "    from: ((Either[Boolean, Boolean], Either[Boolean, Boolean])) => \n",
    "            Either[(Boolean, Boolean), Either[(Boolean, Boolean), Either[(Boolean, Boolean), (Boolean, Boolean)]]],\n",
    "    to: Either[(Boolean, Boolean), Either[(Boolean, Boolean), Either[(Boolean, Boolean), (Boolean, Boolean)]]] => \n",
    "            (Either[Boolean, Boolean], Either[Boolean, Boolean])\n",
    ") extends FlatSpec with Matchers { \n",
    "    \"from-to\" should \"work\" in {\n",
    "        from(to(Left(false, false))) shouldBe Left(false, false)\n",
    "        from(to(Right(Right(Left((false, true)))))) shouldBe Right(Right(Left((false, true))))\n",
    "        from(to(Right(Left((true, false))))) shouldBe Right(Left((true, false)))\n",
    "        from(to(Right(Right(Right((true, true)))))) shouldBe Right(Right(Right((true, true))))\n",
    "    }\n",
    "    \n",
    "    \"to-from\" should \"work\" in {\n",
    "        to(from((Left(false), Left(false)))) shouldBe (Left(false), Left(false))\n",
    "        to(from((Left(true), Right(true)))) shouldBe (Left(true), Right(true))\n",
    "        to(from((Right(false), Left(true)))) shouldBe (Right(false), Left(true))\n",
    "        to(from((Right(true), Right(false)))) shouldBe (Right(true), Right(false))\n",
    "    }\n",
    "}"
   ]
  },
  {
   "cell_type": "code",
   "execution_count": null,
   "metadata": {},
   "outputs": [],
   "source": [
    "def from[X, A, B](l: (Either[X, A], Either[X, B])): Either[(X, X), Either[(A, X), Either[(B, X), (A, B)]]] =\n",
    "    ???"
   ]
  },
  {
   "cell_type": "code",
   "execution_count": null,
   "metadata": {},
   "outputs": [],
   "source": [
    "def to[X, A, B](l: Either[(X, X), Either[(A, X), Either[(B, X), (A, B)]]]): (Either[X, A], Either[X, B]) =\n",
    "    ???"
   ]
  },
  {
   "cell_type": "code",
   "execution_count": null,
   "metadata": {},
   "outputs": [],
   "source": [
    "run(new IsoTest(from, to))"
   ]
  }
 ],
 "metadata": {
  "kernelspec": {
   "display_name": "Scala",
   "language": "scala",
   "name": "scala"
  },
  "language_info": {
   "codemirror_mode": "text/x-scala",
   "file_extension": ".scala",
   "mimetype": "text/x-scala",
   "name": "scala",
   "nbconvert_exporter": "script",
   "version": "2.12.9"
  }
 },
 "nbformat": 4,
 "nbformat_minor": 4
}
