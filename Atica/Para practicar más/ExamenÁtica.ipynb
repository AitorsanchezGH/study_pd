{
 "cells": [
  {
   "cell_type": "markdown",
   "metadata": {},
   "source": [
    "# Programación declarativa @ Academia Ática\n",
    "# Programación funcional\n",
    "## Ejercicios preparatorios\n",
    "## Curso 19-20"
   ]
  },
  {
   "cell_type": "markdown",
   "metadata": {},
   "source": [
    "# Definiciones auxiliares"
   ]
  },
  {
   "cell_type": "code",
   "execution_count": null,
   "metadata": {},
   "outputs": [],
   "source": [
    "import $ivy.`org.scalatest::scalatest:3.0.8`\n",
    "import org.scalatest._"
   ]
  },
  {
   "cell_type": "markdown",
   "metadata": {},
   "source": [
    "### Algunas funciones sobre listas"
   ]
  },
  {
   "cell_type": "code",
   "execution_count": null,
   "metadata": {},
   "outputs": [],
   "source": [
    "object Signatures{\n",
    "    abstract class List[A]{\n",
    "        def foldRight[B](directSol: B)(composeSol: (A, B) => B): B\n",
    "        def foldLeft[B](initial: B)(update: (B, A) => B): B\n",
    "        def map[B](f: A => B): List[B]\n",
    "        def flatMap[B](f: A => List[B]): List[B]\n",
    "        def filter(f: A => Boolean): List[A]\n",
    "        def reverse: List[A]\n",
    "        def forall(pred: A => Boolean): Boolean\n",
    "        def exists(pred: A => Boolean): Boolean\n",
    "    }\n",
    "}"
   ]
  },
  {
   "cell_type": "markdown",
   "metadata": {},
   "source": [
    "### Definiciones sobre árboles binarios"
   ]
  },
  {
   "cell_type": "code",
   "execution_count": null,
   "metadata": {},
   "outputs": [],
   "source": [
    "sealed abstract class Tree[A]\n",
    "case class Empty[A]() extends Tree[A]\n",
    "case class Node[A](left: Tree[A], root: A, right: Tree[A]) extends Tree[A]"
   ]
  },
  {
   "cell_type": "code",
   "execution_count": null,
   "metadata": {},
   "outputs": [],
   "source": [
    "object Tree{\n",
    "    \n",
    "    def void[A]: Tree[A] = \n",
    "        Empty()\n",
    "    \n",
    "    def leaf[A](a: A): Node[A] = \n",
    "        Node(Empty(), a, Empty())\n",
    "    \n",
    "    def right[A](a: A, tree: Tree[A]): Node[A] = \n",
    "        Node(Empty(), a, tree)\n",
    "    \n",
    "    def left[A](tree: Tree[A], a: A): Node[A] = \n",
    "        Node(tree, a, Empty())\n",
    "    \n",
    "    def node[A](left: Tree[A], a: A, right: Tree[A]): Node[A] = \n",
    "        Node(left, a, right)\n",
    "    \n",
    "    def foldTree[A, B](tree: Tree[A])(empty: B)(node: (B, A, B) => B): B = \n",
    "        tree match {\n",
    "            case Empty() => \n",
    "                empty\n",
    "            case Node(left, a, right) =>\n",
    "                node(foldTree(left)(empty)(node),\n",
    "                    a,\n",
    "                    foldTree(right)(empty)(node))\n",
    "        }\n",
    "}\n",
    "\n",
    "import Tree._"
   ]
  },
  {
   "cell_type": "markdown",
   "metadata": {},
   "source": [
    "### Modelo de datos de películas"
   ]
  },
  {
   "cell_type": "code",
   "execution_count": null,
   "metadata": {},
   "outputs": [],
   "source": [
    "case class MovieDatabase(\n",
    "    films: Map[Film.Id, Film],\n",
    "    users: Map[User.Id, User],\n",
    "    ratings: Map[(Film.Id, User.Id), Rating])\n",
    "    \n",
    "case class Film(\n",
    "    id: Film.Id, \n",
    "    title: String, \n",
    "    director: String,\n",
    "    genre: String,\n",
    "    year: Int,\n",
    "    country: String)\n",
    "\n",
    "object Film{\n",
    "    type Id = Int\n",
    "}\n",
    "\n",
    "case class User(\n",
    "    id: User.Id,\n",
    "    name: String,\n",
    "    registered: Int)\n",
    "        \n",
    "object User{\n",
    "    type Id = Int\n",
    "}\n",
    "        \n",
    "case class Rating(\n",
    "    film: Film.Id,\n",
    "    user: User.Id,\n",
    "    score: Int)"
   ]
  },
  {
   "cell_type": "code",
   "execution_count": null,
   "metadata": {},
   "outputs": [],
   "source": [
    "val moviedb: MovieDatabase = MovieDatabase(\n",
    "    films = Map(\n",
    "        1 -> Film(1, \"Blade Runner\", \"Ridley Scott\", \"Sci-Fi\", 1982, \"United States\"),\n",
    "        2 -> Film(2, \"Amanece, que no es poco\", \"José Luis Cuerda\", \"Comedy\", 1989, \"Spain\"),\n",
    "        3 -> Film(3, \"El milagro de P. Tinto\", \"Javier Fesser\", \"Comedy\", 1998, \"Spain\"),\n",
    "        4 -> Film(4, \"Mars Attacks!\", \"Tim Burton\", \"Sci-Fi\", 1996, \"United States\"),\n",
    "        5 -> Film(5, \"2001: A Space Odyssey\", \"Stanley Kubrick\", \"Sci-Fi\", 1968, \"United Kingdom\"),\n",
    "        6 -> Film(6, \"El crack Cero\", \"José Luis Garci\", \"Film noir\", 2019, \"Spain\"),\n",
    "        7 -> Film(7, \"El crack\", \"José Luis Garci\", \"Film noir\", 1981, \"Spain\"),\n",
    "        8 -> Film(8, \"The Maltese Falcon\", \"John Huston\", \"Film noir\", 1941, \"United States\"),\n",
    "        9 -> Film(9, \"Chinatown\", \"Roman Polanski\", \"Film noir\", 1974, \"United States\"),\n",
    "        10 -> Film(10, \"Batman v. Superman: Dawn of Justice\", \"Zack Snyder\", \"Sci-Fi\", 2016, \"United States\"),\n",
    "        11 -> Film(11, \"Dumb and Dumber\", \"Peter Farrelly\", \"Comedy\", 1994, \"United States\")\n",
    "    ),\n",
    "    users = Map(\n",
    "        1 -> User(1, \"Juan\", 1500),\n",
    "        2 -> User(2, \"Alf\", 1555),\n",
    "        3 -> User(3, \"Lola\", 1644),\n",
    "        4 -> User(4, \"Lola\", 1655),\n",
    "        5 -> User(5, \"Dinu\", 1622)),\n",
    "    ratings = Map(\n",
    "        (1,1) -> Rating(1,1,5),\n",
    "        (1,2) -> Rating(1,2,1),\n",
    "        (1,3) -> Rating(1,3,4),\n",
    "        (1,4) -> Rating(1,4,3),\n",
    "        (2,1) -> Rating(2,1,1),\n",
    "        (2,4) -> Rating(2,4,1),\n",
    "        (4,1) -> Rating(4,1,3),\n",
    "        (5,4) -> Rating(5,4,2),\n",
    "        (6,1) -> Rating(6,1,2),\n",
    "        (7,1) -> Rating(7,1,3),\n",
    "        (7,2) -> Rating(7,2,3),\n",
    "        (7,3) -> Rating(7,3,3),\n",
    "        (8,2) -> Rating(8,2,2),\n",
    "        (9,1) -> Rating(9,1,1),\n",
    "        (10,1) -> Rating(10,1,0),\n",
    "        (10,3) -> Rating(10,3,0),\n",
    "        (11,1) -> Rating(11,1,0),\n",
    "        (11,2) -> Rating(11,2,1),\n",
    "        (11,4) -> Rating(11,4,2)))"
   ]
  },
  {
   "cell_type": "code",
   "execution_count": null,
   "metadata": {},
   "outputs": [],
   "source": [
    "object BasicQueries{\n",
    "    \n",
    "    // Entities\n",
    "    \n",
    "    def films(mdb: MovieDatabase): List[Film] =\n",
    "        mdb.films.values.toList\n",
    "    \n",
    "    def filmIds(mdb: MovieDatabase): List[Film.Id] =\n",
    "        mdb.films.keys.toList\n",
    "\n",
    "    def getFilm(id: Film.Id)(mdb: MovieDatabase): List[Film] = \n",
    "        mdb.films.get(id).toList\n",
    "    \n",
    "    def userIds(mdb: MovieDatabase): List[User.Id] = \n",
    "        mdb.users.keys.toList\n",
    "    \n",
    "    def getUser(id: User.Id)(mdb: MovieDatabase): List[User] = \n",
    "        mdb.users.get(id).toList\n",
    "    \n",
    "    // 1-N relationships\n",
    "    \n",
    "    def films(dir: String)(mdb: MovieDatabase): List[Film.Id] = \n",
    "        mdb.films.filter(_._2.director == dir).map(_._1).toList\n",
    "    \n",
    "    // N-M relationships\n",
    "    \n",
    "    def ratings(mdb: MovieDatabase): List[Rating] = \n",
    "        mdb.ratings.values.toList\n",
    "    \n",
    "    def userRatings(user: User.Id)(mdb: MovieDatabase): List[Rating] = \n",
    "        mdb.ratings.filter(_._1._2 == user).values.toList\n",
    "    \n",
    "    def filmRatings(film: Film.Id)(mdb: MovieDatabase): List[Rating] = \n",
    "        mdb.ratings.filter(_._1._1 == film).values.toList\n",
    "}\n",
    "\n",
    "import BasicQueries._"
   ]
  },
  {
   "cell_type": "markdown",
   "metadata": {},
   "source": [
    "# Árboles"
   ]
  },
  {
   "cell_type": "markdown",
   "metadata": {},
   "source": [
    "Implementa las funciones cuyo propósito se describe a continuación usando la función `foldTree` o recursividad, si no es posible el uso de `foldTree`."
   ]
  },
  {
   "cell_type": "markdown",
   "metadata": {},
   "source": [
    "#### 1. Una función que dado un árbol y un elemento, determine si éste último está en una hoja."
   ]
  },
  {
   "cell_type": "code",
   "execution_count": null,
   "metadata": {},
   "outputs": [],
   "source": [
    "class TestLeafContains(\n",
    "    leafContains: Tree[Int] => Int => Boolean\n",
    ") extends FlatSpec with Matchers {\n",
    "    \"leafContains\" should \"work\" in {\n",
    "        leafContains(void)(1) shouldBe false\n",
    "        leafContains(leaf(1))(1) shouldBe true\n",
    "        leafContains(left(leaf(1), 2))(2) shouldBe false\n",
    "        leafContains(node(leaf(1), 2, leaf(3)))(3) shouldBe true\n",
    "        leafContains(node(leaf(1), 2, leaf(3)))(7) shouldBe false\n",
    "    }\n",
    "}"
   ]
  },
  {
   "cell_type": "code",
   "execution_count": null,
   "metadata": {},
   "outputs": [],
   "source": [
    "def leafContains[A](tree: Tree[A])(elem: A): Boolean = \n",
    "    ???"
   ]
  },
  {
   "cell_type": "code",
   "execution_count": null,
   "metadata": {},
   "outputs": [],
   "source": [
    "run(new TestLeafContains(leafContains))"
   ]
  },
  {
   "cell_type": "markdown",
   "metadata": {},
   "source": [
    "#### 2. Una función que dado un árbol y dos números enteros, correspondientes a dos niveles del árbol, devuelva una lista con los elementos situados entre los dos niveles. El primer nivel de un árbol, en el que está situada su raíz, es el 1. Si el primer nivel es superior al segundo nivel, debe devolver una lista vacía. Si no existen ambos niveles, debe devolver una lista vacía. Si el primer nivel existe pero, el segundo no, debe devolver todos los elementos que haya desde el primer nivel hasta el final del árbol."
   ]
  },
  {
   "cell_type": "code",
   "execution_count": null,
   "metadata": {},
   "outputs": [],
   "source": [
    "class TestElementsBetweenLevels(\n",
    "    elementsBetweenLevels: Tree[Int] => (Int, Int) => List[Int]\n",
    ") extends FlatSpec with Matchers {\n",
    "    \"elementsBetweenLevels\" should \"work\" in {\n",
    "        elementsBetweenLevels(void)(5, 2) shouldBe List()\n",
    "        elementsBetweenLevels(node(leaf(1), 8, leaf(-4)))(3, 4) shouldBe List()\n",
    "        elementsBetweenLevels(node(leaf(1), 8, leaf(-4)))(2, 5) shouldBe List(1, -4)\n",
    "        elementsBetweenLevels(left(node(leaf(1), 8, leaf(-4)), 5))(2, 2) shouldBe List(1, -4)\n",
    "        elementsBetweenLevels(left(node(leaf(1), 8, leaf(-4)), 5))(1, 3) shouldBe left(node(leaf(1), 8, leaf(-4)), 5)\n",
    "    }\n",
    "}"
   ]
  },
  {
   "cell_type": "code",
   "execution_count": null,
   "metadata": {},
   "outputs": [],
   "source": [
    "def elementsBetweenLevels[A](tree: Tree[A])(level1: Int, level2: Int): List[A] = \n",
    "    ???"
   ]
  },
  {
   "cell_type": "code",
   "execution_count": null,
   "metadata": {},
   "outputs": [],
   "source": [
    "run(new TestElementsBetweenLevels(elementsBetweenLevels))"
   ]
  },
  {
   "cell_type": "markdown",
   "metadata": {},
   "source": [
    "#### 3. Una función que dado un árbol devuelva uno nuevo habiendo eliminado las hojas del original."
   ]
  },
  {
   "cell_type": "code",
   "execution_count": null,
   "metadata": {},
   "outputs": [],
   "source": [
    "class TestRemoveLeaves(\n",
    "    removeLeaves: Tree[Char] => Tree[Char]\n",
    ") extends FlatSpec with Matchers {\n",
    "    \"removeLeaves\" should \"work\" in {\n",
    "        removeLeaves(void) shouldBe void\n",
    "        removeLeaves(leaf('*')) shouldBe void\n",
    "        removeLeaves(left(leaf('h'), '?')) shouldBe leaf('?')\n",
    "        removeLeaves(left(right(';', leaf('a')), '2')) shouldBe left(leaf(';'), '2')\n",
    "        removeLeaves(node(right(';', leaf('a')), '2', leaf('-'))) shouldBe left(leaf(';'), '2')\n",
    "    }\n",
    "}"
   ]
  },
  {
   "cell_type": "code",
   "execution_count": null,
   "metadata": {},
   "outputs": [],
   "source": [
    "def removeLeaves[A](tree: Tree[A]): Tree[A] =\n",
    "    ???"
   ]
  },
  {
   "cell_type": "code",
   "execution_count": null,
   "metadata": {},
   "outputs": [],
   "source": [
    "run(new TestRemoveLeaves(removeLeaves))"
   ]
  },
  {
   "cell_type": "markdown",
   "metadata": {},
   "source": [
    "#### 4. Una función que dado un árbol determine si es un zurdo. Un árbol es zurdo si se da alguna de las siguientes condiciones:\n",
    "- Es un árbol vacío\n",
    "- Es un nodo hoja\n",
    "- Sus hijos izquierdo y derecho son zurdos y más de la mitad de sus\n",
    "descendientes están en el hijo izquierdo"
   ]
  },
  {
   "cell_type": "code",
   "execution_count": null,
   "metadata": {},
   "outputs": [],
   "source": [
    "class TestIsLeftHanded(\n",
    "    isLeftHanded: Tree[Int] => Boolean\n",
    ") extends FlatSpec with Matchers {\n",
    "    \"isLeftHanded\" should \"work\" in {\n",
    "        isLeftHanded(void) shouldBe true\n",
    "        isLeftHanded(leaf(2)) shouldBe true\n",
    "        isLeftHanded(node(leaf(1), 0, leaf(7))) shouldBe false\n",
    "        isLeftHanded(node(left(leaf(8), 1), 0, leaf(7))) shouldBe true\n",
    "        isLeftHanded(node(leaf(4), 7, node(leaf(6), 14, leaf(20)))) shouldBe false\n",
    "    }\n",
    "}"
   ]
  },
  {
   "cell_type": "code",
   "execution_count": null,
   "metadata": {},
   "outputs": [],
   "source": [
    "def isLeftHanded[A](tree: Tree[A]): Boolean =\n",
    "    ???"
   ]
  },
  {
   "cell_type": "code",
   "execution_count": null,
   "metadata": {},
   "outputs": [],
   "source": [
    "run(new TestRemoveLeaves(removeLeaves))"
   ]
  },
  {
   "cell_type": "markdown",
   "metadata": {},
   "source": [
    "#### 5. Una función que dado un árbol devuelva el número de nodos que tienen vacío, solamente, su hijo derecho."
   ]
  },
  {
   "cell_type": "code",
   "execution_count": null,
   "metadata": {},
   "outputs": [],
   "source": [
    "class TestNumEmptyRightSon(\n",
    "    numEmptyRightSon: Tree[Int] => Int\n",
    ") extends FlatSpec with Matchers {\n",
    "    \"numEmptyRightSon\" should \"work\" in {\n",
    "        numEmptyRightSon(void) shouldBe 0\n",
    "        numEmptyRightSon(leaf(25)) shouldBe 0\n",
    "        numEmptyRightSon(left(leaf(1), 4)) shouldBe 1\n",
    "        numEmptyRightSon(node(leaf(-2), 9, leaf(10))) shouldBe 0\n",
    "    }\n",
    "}"
   ]
  },
  {
   "cell_type": "code",
   "execution_count": null,
   "metadata": {},
   "outputs": [],
   "source": [
    "def numEmptyRightSon[A](tree: Tree[A]): Int =\n",
    "    ???"
   ]
  },
  {
   "cell_type": "code",
   "execution_count": null,
   "metadata": {},
   "outputs": [],
   "source": [
    "run(new TestNumEmptyRightSon(numEmptyRightSon))"
   ]
  },
  {
   "cell_type": "markdown",
   "metadata": {},
   "source": [
    "# Listas"
   ]
  },
  {
   "cell_type": "markdown",
   "metadata": {},
   "source": [
    "Implementa las funciones cuyo propósito se describe a continuación, utilizando para ello las herramientas que consideres oportunas, es decir, funciones de orden superior como `foldLeft`, `foldRight`, `filter`, `map`, etcétera, o recursividad."
   ]
  },
  {
   "cell_type": "markdown",
   "metadata": {},
   "source": [
    "#### 1. Una función que dada una lista de números enteros y un número entero n, devuelva una lista con los n elementos mayores de la lista original. A tener en cuenta:\n",
    "- La función `min` de listas devuelve el menor de sus elementos.\n",
    "\n",
    "- La función `diff` permite calcular la diferencia entre 2 listas: `List(1, 2, 3) diff List(3, 1) = List(2)`."
   ]
  },
  {
   "cell_type": "code",
   "execution_count": null,
   "metadata": {},
   "outputs": [],
   "source": [
    "class TestNBigger(\n",
    "    nBigger: List[Int] => Int => List[Int]\n",
    ") extends FlatSpec with Matchers{\n",
    "    \"nBigger\" should \"work\" in {\n",
    "        nBigger(List(8, 4, -5, 6, -1, 0, 2, 6, -10, 7))(4) shouldBe List(8, 6, 6, 7)\n",
    "        nBigger(List(8, 4, -5, 6, -1, 0, 2, 6, -10, 7))(7) shouldBe List(8, 4, 6, 0, 2, 6, 7)\n",
    "        nBigger(List(8, 4, -5, 6, -1, 0, 2, 6, -10, 7))(11) shouldBe List(8, 4, -5, 6, -1, 0, 2, 6, -10, 7)\n",
    "    }\n",
    "}"
   ]
  },
  {
   "cell_type": "code",
   "execution_count": null,
   "metadata": {},
   "outputs": [],
   "source": [
    "def nBigger(list: List[Int])(n: Int): List[Int] = \n",
    "    ???"
   ]
  },
  {
   "cell_type": "code",
   "execution_count": null,
   "metadata": {},
   "outputs": [],
   "source": [
    "run(new TestNBigger(nBigger))"
   ]
  },
  {
   "cell_type": "markdown",
   "metadata": {},
   "source": [
    "#### 2. Una función que reciba dos listas y determine si la primera está contenida en la segunda. Se dice que una lista está contenida en otra, si los elementos de la primera aparecen dentro de la segunda, en el mismo orden y de forma consecutiva."
   ]
  },
  {
   "cell_type": "code",
   "execution_count": null,
   "metadata": {},
   "outputs": [],
   "source": [
    "class TestIsContain(\n",
    "    isContain: List[Int] => List[Int] => Boolean\n",
    ") extends FlatSpec with Matchers{\n",
    "    \"isContain\" should \"work\" in {\n",
    "        isContain(List())(List(4, 5)) shouldBe true\n",
    "        isContain(List(4, 4, 2))(List(5, 4, 4, 5, 2, 9)) shouldBe false\n",
    "        isContain(List(4, 4, 2))(List(5, 4, 4, 5, 4, 4, 2, 9)) shouldBe true\n",
    "        isContain(List(4, 5))(List()) shouldBe false\n",
    "    }\n",
    "}"
   ]
  },
  {
   "cell_type": "code",
   "execution_count": null,
   "metadata": {},
   "outputs": [],
   "source": [
    "def isContain[A](list1: List[A])(list2: List[A]): Boolean =\n",
    "    ???"
   ]
  },
  {
   "cell_type": "code",
   "execution_count": null,
   "metadata": {},
   "outputs": [],
   "source": [
    "run(new TestIsContain(isContain))"
   ]
  },
  {
   "cell_type": "markdown",
   "metadata": {},
   "source": [
    "#### 3. Una función que reciba una lista de listas y sea capaz de invertir los elementos de las sublistas y, a su vez, de la lista."
   ]
  },
  {
   "cell_type": "code",
   "execution_count": null,
   "metadata": {},
   "outputs": [],
   "source": [
    "class TestDeepReverse(\n",
    "    deepReverse: List[List[Int]] => List[List[Int]]\n",
    ") extends FlatSpec with Matchers{\n",
    "    \"deepReverse\" should \"work\" in {\n",
    "        deepReverse(List(List(1, 2, 3), List(3, 4, 5))) shouldBe List(List(5, 4, 3), List(3, 2, 1))\n",
    "    }\n",
    "}"
   ]
  },
  {
   "cell_type": "code",
   "execution_count": null,
   "metadata": {},
   "outputs": [],
   "source": [
    "def deepReverse[A](list: List[List[A]]): List[List[A]] =\n",
    "    ???"
   ]
  },
  {
   "cell_type": "code",
   "execution_count": null,
   "metadata": {},
   "outputs": [],
   "source": [
    "run(new TestIsContain(isContain))"
   ]
  },
  {
   "cell_type": "markdown",
   "metadata": {},
   "source": [
    "# Ejercicio Base de Datos"
   ]
  },
  {
   "cell_type": "markdown",
   "metadata": {},
   "source": [
    "Dado el modelo de datos de películas, implementar una consulta que devuelva los títulos de las películas que hayan sido valoradas en, al menos, 2 ocasiones y, además, su fecha de estreno sea en el siglo XXI."
   ]
  },
  {
   "cell_type": "code",
   "execution_count": null,
   "metadata": {},
   "outputs": [],
   "source": [
    "class TestRecentMovies(\n",
    "    recentMovies: MovieDatabase => List[String]\n",
    ") extends FlatSpec with Matchers {\n",
    "    \"recentMovies\" should \"work\" in {\n",
    "        recentMovies(moviedb) shouldBe List()\n",
    "    }\n",
    "}"
   ]
  },
  {
   "cell_type": "code",
   "execution_count": null,
   "metadata": {},
   "outputs": [],
   "source": [
    "def recentMovies(mdb: MovieDatabase): List[String] =\n",
    "    ???"
   ]
  },
  {
   "cell_type": "code",
   "execution_count": null,
   "metadata": {},
   "outputs": [],
   "source": [
    "run(new TestRecentMovies(recentMovies))"
   ]
  }
 ],
 "metadata": {
  "kernelspec": {
   "display_name": "Scala",
   "language": "scala",
   "name": "scala"
  },
  "language_info": {
   "codemirror_mode": "text/x-scala",
   "file_extension": ".scala",
   "mimetype": "text/x-scala",
   "name": "scala",
   "nbconvert_exporter": "script",
   "version": "2.12.9"
  }
 },
 "nbformat": 4,
 "nbformat_minor": 2
}
