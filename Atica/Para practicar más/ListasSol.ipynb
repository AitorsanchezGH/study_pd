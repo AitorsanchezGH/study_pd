{
 "cells": [
  {
   "attachments": {
    "logo_v1.png": {
     "image/png": "[encoded data removed]"
    }
   },
   "cell_type": "markdown",
   "metadata": {},
   "source": [
    "![logo_v1.png](attachment:logo_v1.png)"
   ]
  },
  {
   "cell_type": "markdown",
   "metadata": {},
   "source": [
    "# Listas"
   ]
  },
  {
   "cell_type": "markdown",
   "metadata": {},
   "source": [
    "API: https://www.scala-lang.org/api/current/scala/collection/immutable/List.html"
   ]
  },
  {
   "cell_type": "code",
   "execution_count": null,
   "metadata": {},
   "outputs": [],
   "source": [
    "import $ivy.`org.scalatest::scalatest:3.0.8`\n",
    "import org.scalatest._"
   ]
  },
  {
   "cell_type": "markdown",
   "metadata": {},
   "source": [
    "1. Escriba una función que elimine de una lista de enteros aquellos que sean múltiplos de un número entero dado."
   ]
  },
  {
   "cell_type": "code",
   "execution_count": null,
   "metadata": {},
   "outputs": [],
   "source": [
    "class TestSift(sift: (List[Int], Int) => List[Int]) extends FlatSpec with Matchers {\n",
    "    \"sift\" should \"work\" in {\n",
    "        sift(List(), 5) shouldBe \n",
    "            List()\n",
    "        sift(List(0, 2, 1, 3, -4), 2) shouldBe \n",
    "            List(1, 3)\n",
    "        sift(List(7, 15, -1, 5, 7), 3) shouldBe \n",
    "            List(7, -1, 5, 7)\n",
    "        sift(List(0, 5, 8, 9, -9, 6, 0, 85, -12, 15), 2) shouldBe \n",
    "            List(5, 9, -9, 85, 15)\n",
    "        sift(List(0, 2, 1, 3, -4), 1) shouldBe \n",
    "            List()\n",
    "    }\n",
    "}"
   ]
  },
  {
   "cell_type": "code",
   "execution_count": null,
   "metadata": {},
   "outputs": [],
   "source": [
    "def sift(list: List[Int], n: Int): List[Int] = \n",
    "    list.foldLeft(List[Int]())(\n",
    "        (acc, elem) =>\n",
    "            if (elem % n == 0)\n",
    "                acc\n",
    "            else\n",
    "                acc ++ List(elem)\n",
    "    )"
   ]
  },
  {
   "cell_type": "code",
   "execution_count": null,
   "metadata": {},
   "outputs": [],
   "source": [
    "run(new TestSift(sift))"
   ]
  },
  {
   "cell_type": "markdown",
   "metadata": {},
   "source": [
    "2. Escriba una función que, dada una lista de elementos, devuelva una lista de duplas formadas por los elementos sin repetir de la lista junto con la primera posición en la que aparecen. La primera posición de la lista es 1."
   ]
  },
  {
   "cell_type": "code",
   "execution_count": null,
   "metadata": {},
   "outputs": [],
   "source": [
    "class TestFirstAppearance(firstAppearance: (List[Int]) => List[(Int, Int)]) extends FlatSpec with Matchers {\n",
    "    \"firstAppearance\" should \"work\" in {\n",
    "        firstAppearance(List()) shouldBe \n",
    "            List()\n",
    "        firstAppearance(List(1, 5, 6, 0, 2, 6, 4, 1)) shouldBe \n",
    "            List((1, 1), (5, 2), (6, 3), (0, 4), (2, 5), (4, 7))\n",
    "        firstAppearance(List(1, 1, 1)) shouldBe \n",
    "            List((1,1))\n",
    "    }\n",
    "}"
   ]
  },
  {
   "cell_type": "code",
   "execution_count": null,
   "metadata": {},
   "outputs": [],
   "source": [
    "def firstAppearance[A](list: List[A]): List[(A, Int)] =\n",
    "    list.foldLeft((1, List[A](), List[(A, Int)]()))({\n",
    "        case ((index, visited, result), elem) =>\n",
    "            if (!visited.contains(elem))\n",
    "                (index + 1, visited ++ List(elem), result ++ List((elem, index)))\n",
    "            else\n",
    "                (index + 1, visited, result)\n",
    "    })._3"
   ]
  },
  {
   "cell_type": "code",
   "execution_count": null,
   "metadata": {},
   "outputs": [],
   "source": [
    "run(new TestFirstAppearance(firstAppearance))"
   ]
  },
  {
   "cell_type": "markdown",
   "metadata": {},
   "source": [
    "3. Escriba una función que calcule el número de secuencias de ceros que hay en una lista de números enteros."
   ]
  },
  {
   "cell_type": "code",
   "execution_count": null,
   "metadata": {},
   "outputs": [],
   "source": [
    "class TestZeros(zeros: (List[Int]) => Int) extends FlatSpec with Matchers {\n",
    "    \"zeros\" should \"work\" in {\n",
    "        zeros(List(0, 1, 0)) shouldBe \n",
    "            2\n",
    "        zeros(List(0, 0)) shouldBe \n",
    "            1\n",
    "        zeros(List(0, 0, 1, 5, 0, 4, 0, 0, 0, 5)) shouldBe \n",
    "            3\n",
    "    }\n",
    "}"
   ]
  },
  {
   "cell_type": "code",
   "execution_count": null,
   "metadata": {},
   "outputs": [],
   "source": [
    "def zeros(list: List[Int]): Int = \n",
    "    list.foldLeft((false, 0))({\n",
    "        case ((true, total), elem) if (elem != 0) =>\n",
    "            (false, total)\n",
    "        case ((false, total), 0) =>\n",
    "            (true, total + 1)\n",
    "        case ((isCurrentlyZeros, total), _) =>\n",
    "            (isCurrentlyZeros, total)\n",
    "    })._2"
   ]
  },
  {
   "cell_type": "code",
   "execution_count": null,
   "metadata": {},
   "outputs": [],
   "source": [
    "run(new TestZeros(zeros))"
   ]
  },
  {
   "cell_type": "markdown",
   "metadata": {},
   "source": [
    "4. Escriba una función que, haciendo uso de la HOF __fold__ (en cualquiera de sus dos versiones), reciba un elemento y una lista de elementos del mismo tipo y determine si dicho elemento está incluido en la lista."
   ]
  },
  {
   "cell_type": "code",
   "execution_count": null,
   "metadata": {},
   "outputs": [],
   "source": [
    "class TestContains(contains: (List[Int], Int) => Boolean) extends FlatSpec with Matchers {\n",
    "    \"contains\" should \"work\" in {\n",
    "        contains(List(), 1) shouldBe false\n",
    "        contains(List(1, 2, 3, 4, 5), 3) shouldBe true\n",
    "        contains(List(1, 2, 3, 4, 5), 7) shouldBe false\n",
    "    }\n",
    "}"
   ]
  },
  {
   "cell_type": "code",
   "execution_count": null,
   "metadata": {},
   "outputs": [],
   "source": [
    "def contains[A](list: List[A], a: A): Boolean = \n",
    "    list.foldLeft(false)({\n",
    "        case (false, elem) if (elem == a) =>\n",
    "            true\n",
    "        case (result, _) =>\n",
    "            result\n",
    "    })"
   ]
  },
  {
   "cell_type": "code",
   "execution_count": null,
   "metadata": {},
   "outputs": [],
   "source": [
    "run(new TestContains(contains))"
   ]
  },
  {
   "cell_type": "markdown",
   "metadata": {},
   "source": [
    "5. Escriba una función que, haciendo uso de la versión de __fold__ no utilizada en el ejercicio anterior, elimine de la lista todas las apariciones del elemento que reciba como parámetro."
   ]
  },
  {
   "cell_type": "code",
   "execution_count": null,
   "metadata": {},
   "outputs": [],
   "source": [
    "class TestRemove(remove: (List[Int], Int) => List[Int]) extends FlatSpec with Matchers {\n",
    "    \"remove\" should \"work\" in {\n",
    "        remove(List(), 1) shouldBe List()\n",
    "        remove(List(1, 2, 3, 4, 5), 3) shouldBe List(1, 2, 4, 5)\n",
    "        remove(List(1, 2, 3, 2, 2, 3), 2) shouldBe List(1, 3, 3)\n",
    "    }\n",
    "}"
   ]
  },
  {
   "cell_type": "code",
   "execution_count": null,
   "metadata": {},
   "outputs": [],
   "source": [
    "def remove[A](list: List[A], a: A): List[A] = \n",
    "    list.foldRight(List[A]())(\n",
    "        (elem, acc) =>\n",
    "            if (elem == a)\n",
    "                acc\n",
    "            else\n",
    "                elem :: acc\n",
    "    )"
   ]
  },
  {
   "cell_type": "code",
   "execution_count": null,
   "metadata": {},
   "outputs": [],
   "source": [
    "run(new TestRemove(remove))"
   ]
  },
  {
   "cell_type": "markdown",
   "metadata": {},
   "source": [
    "6. Escriba una función que, dada una lista y una función que recibe un elemento de la lista y devuelve un \"booleano\", devuelva como resultado una lista que contenga exclusivamente los elementos de la lista original para los que la función pasada como parámetro devuelva \"true\". Es obligatorio el uso de cualquier HOF __fold__."
   ]
  },
  {
   "cell_type": "code",
   "execution_count": null,
   "metadata": {},
   "outputs": [],
   "source": [
    "class TestFoldFilter(foldFilter: List[Int] => (Int => Boolean) => List[Int]) extends FlatSpec with Matchers {\n",
    "    \"remove\" should \"work\" in {\n",
    "        val isEven: Int => Boolean = _ % 2 == 0\n",
    "\n",
    "        foldFilter(List())(isEven) shouldBe List()\n",
    "        foldFilter(List(1, 2, 3, 4, 5))(isEven) shouldBe List(2, 4)\n",
    "        foldFilter(List(1, 2, 3, 2, 2, 3))(isEven) shouldBe List(2, 2, 2)\n",
    "    }\n",
    "}"
   ]
  },
  {
   "cell_type": "code",
   "execution_count": null,
   "metadata": {},
   "outputs": [],
   "source": [
    "def foldFilter[A](list: List[A])(predicate: A => Boolean): List[A] = \n",
    "    list.foldLeft(List[A]())(\n",
    "        (acc, elem) =>\n",
    "            if (predicate(elem))\n",
    "                acc ++ List(elem)\n",
    "            else\n",
    "                acc\n",
    "    )"
   ]
  },
  {
   "cell_type": "code",
   "execution_count": null,
   "metadata": {},
   "outputs": [],
   "source": [
    "run(new TestFoldFilter(foldFilter))"
   ]
  },
  {
   "cell_type": "markdown",
   "metadata": {},
   "source": [
    "7. Para realizar tratamientos avanzados de datos, se quiere poder aplicar un conjunto de funciones sobre una lista de elementos de cualquier tipo. Las transformaciones serán siempre del tipo de dato de los elementos de la lista, es decir, si tenemos una lista de String, sólo se pueden hacer transformaciones que devuelvan un String. Se pide implementar una función que sea capaz de hacer lo descrito anteriormente."
   ]
  },
  {
   "cell_type": "code",
   "execution_count": null,
   "metadata": {},
   "outputs": [],
   "source": [
    "class TestMmap(mmap: List[String] => (List[(String => String)]) => List[String]) extends FlatSpec with Matchers {\n",
    "    \"mmap\" should \"work\" in {\n",
    "        val tail: String => String = _.tail\n",
    "        val toUpper: String => String = _.toUpperCase\n",
    "        val fs: List[(String => String)] = List(tail, toUpper)\n",
    "\n",
    "        mmap(List())(fs) shouldBe List()\n",
    "        mmap(List(\"Hi\", \"Bye\", \"Thanks\"))(fs) shouldBe List(\"I\", \"YE\", \"HANKS\")\n",
    "    }\n",
    "}"
   ]
  },
  {
   "cell_type": "code",
   "execution_count": null,
   "metadata": {},
   "outputs": [],
   "source": [
    "def mmap[A](list: List[A])(fs: List[(A => A)]): List[A] = \n",
    "    list.foldLeft(List[A]())(\n",
    "        (acc, elem) =>\n",
    "            acc ++ List(fs.foldLeft(elem)((acc, f) => f(acc)))\n",
    "    )"
   ]
  },
  {
   "cell_type": "code",
   "execution_count": null,
   "metadata": {},
   "outputs": [],
   "source": [
    "run(new TestMmap(mmap))"
   ]
  },
  {
   "cell_type": "markdown",
   "metadata": {},
   "source": [
    "8. Escriba una función que, dada una lista de elementos, cree sublistas con todos los elementos repetidos."
   ]
  },
  {
   "cell_type": "code",
   "execution_count": null,
   "metadata": {},
   "outputs": [],
   "source": [
    "class TestEquals(equals: List[Int] => List[List[Int]]) extends FlatSpec with Matchers {\n",
    "    \"equals\" should \"work\" in {\n",
    "        equals(List()) shouldBe List()\n",
    "        equals(List(1, 2, 3, 1, 5, 3, 2, 6, 5, 7, 8, 7)) shouldBe \n",
    "            List(List(8), List(7, 7), List(6), List(5, 5), List(3, 3), List(2, 2), List(1, 1))\n",
    "    }\n",
    "}"
   ]
  },
  {
   "cell_type": "code",
   "execution_count": null,
   "metadata": {},
   "outputs": [],
   "source": [
    "def appearances[A](list: List[A], a: A): Int =\n",
    "    list.filter(_ == a).length\n",
    "\n",
    "def myEquals[A](list: List[A]): List[List[A]] = \n",
    "    list.foldLeft((List[A](), List[List[A]]()))({\n",
    "        case ((visited, result), elem) =>\n",
    "            if (!visited.contains(elem))\n",
    "                (visited ++ List(elem), List.fill(appearances(list, elem))(elem) :: result)\n",
    "            else\n",
    "                (visited, result)\n",
    "    })._2"
   ]
  },
  {
   "cell_type": "code",
   "execution_count": null,
   "metadata": {},
   "outputs": [],
   "source": [
    "run(new TestEquals(myEquals))"
   ]
  },
  {
   "cell_type": "markdown",
   "metadata": {},
   "source": [
    "9. Escriba una función que, dada una lista de elementos y dos elementos del mismo tipo, sustiya las apariciones del primero por el segundo, siempre y cuando el primero se encuentre en una posición impar dentro de la lista. La primera posición de la lista es 1. Se debe usar obligatoriamente __foldright__."
   ]
  },
  {
   "cell_type": "code",
   "execution_count": null,
   "metadata": {},
   "outputs": [],
   "source": [
    "class TestReplace(replace: List[Int] => (Int, Int) => List[Int]) extends FlatSpec with Matchers {\n",
    "    \"replace\" should \"work\" in {\n",
    "        replace(List())(1, 2) shouldBe \n",
    "            List()\n",
    "        replace(List(1, 5, 2, 7, 1, 4, 9, -2, -6, 1, 4, 8, 11))(1, 0) shouldBe \n",
    "            List(0, 5, 2, 7, 0, 4, 9, -2, -6, 1, 4, 8, 11)\n",
    "    }\n",
    "}"
   ]
  },
  {
   "cell_type": "code",
   "execution_count": null,
   "metadata": {},
   "outputs": [],
   "source": [
    "def replace[A](list: List[A])(a1: A, a2: A): List[A] = \n",
    "    list.foldRight((list.length, List[A]()))({\n",
    "        case (elem, (index, result)) =>\n",
    "            if (index % 2 != 0 && elem == a1)\n",
    "                (index - 1, a2 :: result)\n",
    "            else\n",
    "                (index - 1, elem :: result)\n",
    "    })._2"
   ]
  },
  {
   "cell_type": "code",
   "execution_count": null,
   "metadata": {},
   "outputs": [],
   "source": [
    "run(new TestReplace(replace))"
   ]
  },
  {
   "cell_type": "markdown",
   "metadata": {},
   "source": [
    "10. Escriba una función llamada __mfoldl__ que devuelva una lista con todos los resultados de aplicar foldleft a cada subsecuencia de la lista original. Por ejemplo, dada la lista [1, 2, 3], sus subsecuencias serían [[1], [1, 2], [1, 2, 3]], y el resultado de mfoldl, para una función encargada de sumar dos enteros, sería [[1], [3], [6]]."
   ]
  },
  {
   "cell_type": "code",
   "execution_count": null,
   "metadata": {},
   "outputs": [],
   "source": [
    "class TestMFoldl(mfoldl: List[Int] => (Int) => ((Int, Int) => Int) => List[List[Int]]) extends FlatSpec with Matchers {\n",
    "    \"mfoldl\" should \"work\" in {\n",
    "        val sum: (Int, Int) => Int =\n",
    "             (n1, n2) => n1 + n2\n",
    "        \n",
    "        mfoldl(List())(0)(sum) shouldBe \n",
    "            List()\n",
    "        mfoldl(List(1, 2, 3))(0)(sum) shouldBe \n",
    "            List(List(1), List(3), List(6))\n",
    "    }\n",
    "}"
   ]
  },
  {
   "cell_type": "code",
   "execution_count": null,
   "metadata": {},
   "outputs": [],
   "source": [
    "def subSequences[A](list: List[A]): List[List[A]] =\n",
    "     list.foldLeft((List[A](), List[List[A]]()))({\n",
    "        case ((previousSequence, result), elem) =>\n",
    "            if (previousSequence.isEmpty)\n",
    "                (List(elem), result ++ List(List(elem)))\n",
    "            else\n",
    "                (previousSequence ++ List(elem), result ++ List(previousSequence ++ List(elem)))\n",
    "    })._2\n",
    "\n",
    "def mfoldl[A, B](list: List[A])(initial: B)(update: (B, A) => B): List[List[B]] =\n",
    "    subSequences(list).foldLeft(List[List[B]]())({\n",
    "        (acc, elem) =>\n",
    "            acc ++ List(List(elem.foldLeft(initial)((acc, elem) => update(acc, elem))))\n",
    "    })"
   ]
  },
  {
   "cell_type": "code",
   "execution_count": null,
   "metadata": {},
   "outputs": [],
   "source": [
    "run(new TestMFoldl(mfoldl))"
   ]
  }
 ],
 "metadata": {
  "kernelspec": {
   "display_name": "Scala",
   "language": "scala",
   "name": "scala"
  },
  "language_info": {
   "codemirror_mode": "text/x-scala",
   "file_extension": ".scala",
   "mimetype": "text/x-scala",
   "name": "scala",
   "nbconvert_exporter": "script",
   "version": "2.12.9"
  }
 },
 "nbformat": 4,
 "nbformat_minor": 2
}
