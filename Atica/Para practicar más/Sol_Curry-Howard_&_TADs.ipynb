{
 "cells": [
  {
   "cell_type": "markdown",
   "metadata": {},
   "source": [
    "# PD @ Academia Ática\n",
    "# Programación Funcional\n",
    "## Correspondencia de Curry-Howard & Tipos Algebraicos de Datos"
   ]
  },
  {
   "cell_type": "code",
   "execution_count": null,
   "metadata": {},
   "outputs": [],
   "source": [
    "import $ivy.`org.scalatest::scalatest:3.0.8`\n",
    "import org.scalatest._"
   ]
  },
  {
   "cell_type": "code",
   "execution_count": null,
   "metadata": {},
   "outputs": [],
   "source": [
    "type Not[P] = P => Nothing\n",
    "type <=>[P, Q] = (P => Q, Q => P)"
   ]
  },
  {
   "cell_type": "markdown",
   "metadata": {},
   "source": [
    "## Ejercicios"
   ]
  },
  {
   "cell_type": "markdown",
   "metadata": {},
   "source": [
    "$\\{q \\rightarrow \\neg p, r \\vee p\\} \\vdash \\neg r \\rightarrow \\neg q$"
   ]
  },
  {
   "cell_type": "code",
   "execution_count": null,
   "metadata": {},
   "outputs": [],
   "source": [
    "def proof[P, Q, R]: (Q => Not[P]) => Either[R, P] => (Not[R] => Not[Q]) =\n",
    "    qnp => rop => rop match {\n",
    "        case Left(r) =>\n",
    "            nr => (q => nr(r))\n",
    "        case Right(p) =>\n",
    "            nr => (q => qnp(q)(p))\n",
    "    }"
   ]
  },
  {
   "cell_type": "markdown",
   "metadata": {},
   "source": [
    "$\\{p \\rightarrow q \\rightarrow r, \\neg s \\vee p, q\\} \\vdash s \\rightarrow r$"
   ]
  },
  {
   "cell_type": "code",
   "execution_count": null,
   "metadata": {},
   "outputs": [],
   "source": [
    "def proof[P, Q, R, S](piqir: P => Q => R, nsop: Either[Not[S], P], q: Q): S => R =\n",
    "    nsop match {\n",
    "        case Left(ns) =>\n",
    "            s => ns(s)\n",
    "        case Right(p) =>\n",
    "            s => piqir(p)(q)\n",
    "    }"
   ]
  },
  {
   "cell_type": "markdown",
   "metadata": {},
   "source": [
    "$\\{s \\rightarrow t \\rightarrow u, u \\rightarrow \\neg u, (v \\rightarrow s) \\wedge (p \\rightarrow t)\\} \\vdash v \\rightarrow \\neg p$"
   ]
  },
  {
   "cell_type": "code",
   "execution_count": null,
   "metadata": {},
   "outputs": [],
   "source": [
    "def proof[P, S, T, U, V](sitiu: S => T => U, uinu: U => Not[U], uisapit: (V => S, P => T)): V => Not[P] =\n",
    "    v => p => {\n",
    "        val u = sitiu(uisapit._1(v))(uisapit._2(p))\n",
    "        uinu(u)(u)\n",
    "    }"
   ]
  },
  {
   "cell_type": "markdown",
   "metadata": {},
   "source": [
    "$\\{p \\vee q, p \\rightarrow r, q \\rightarrow s \\wedge r\\} \\vdash r$"
   ]
  },
  {
   "cell_type": "code",
   "execution_count": null,
   "metadata": {},
   "outputs": [],
   "source": [
    "def proof[P, Q, R, S](poq: Either[P, Q], pir: P => R, qisar: Q => (S, R)): R =\n",
    "    poq match {\n",
    "        case Left(p) =>\n",
    "            pir(p)\n",
    "        case Right(q) =>\n",
    "            qisar(q)._2\n",
    "    }"
   ]
  },
  {
   "cell_type": "markdown",
   "metadata": {},
   "source": [
    "$\\{p \\vee q, p \\rightarrow r \\vee \\neg t, q \\rightarrow s \\wedge r\\} \\vdash t \\rightarrow r$"
   ]
  },
  {
   "cell_type": "code",
   "execution_count": null,
   "metadata": {},
   "outputs": [],
   "source": [
    "def proof[P, Q, R, S, T](poq: Either[P, Q], piront: P => Either[R, Not[T]], pisor: Q => (S, R)): T => R =\n",
    "    t => poq match {\n",
    "        case Left(p) =>\n",
    "            piront(p) match {\n",
    "                case Left(r) =>\n",
    "                    r\n",
    "                case Right(nt) =>\n",
    "                    nt(t)\n",
    "            }\n",
    "        case Right(q) =>\n",
    "            pisor(q)._2\n",
    "    }"
   ]
  },
  {
   "cell_type": "markdown",
   "metadata": {},
   "source": [
    "$\\{p \\vee q \\vee r, \\neg p \\vee s, s \\rightarrow r\\} \\vdash \\neg q \\rightarrow r$"
   ]
  },
  {
   "cell_type": "code",
   "execution_count": null,
   "metadata": {},
   "outputs": [],
   "source": [
    "def proof[P, Q, R, S](poqor: Either[P, Either[Q, R]], npos: Either[Not[P], S], sir: S => R): Not[Q] => R =\n",
    "    (poqor, npos) match {\n",
    "        case (Left(p), Left(np)) =>\n",
    "            nq => np(p)\n",
    "        case (_, Right(s)) =>\n",
    "            nq => sir(s)\n",
    "        case (Right(Left(q)), _) =>\n",
    "            nq => nq(q)\n",
    "        case (Right(Left(q)), Right(s)) =>\n",
    "            nq => nq(q) // nq => sir(s)\n",
    "        case (Right(Right(r)), _) =>\n",
    "            nq => r\n",
    "        case (_, Right(s)) =>\n",
    "            nq => sir(s)\n",
    "    }"
   ]
  },
  {
   "cell_type": "markdown",
   "metadata": {},
   "source": [
    "$\\{p \\rightarrow q \\vee \\neg r, r \\vee \\neg q, \\neg q \\rightarrow r, r \\rightarrow \\neg q\\} \\vdash \\neg p$"
   ]
  },
  {
   "cell_type": "code",
   "execution_count": null,
   "metadata": {},
   "outputs": [],
   "source": [
    "def proof[P, Q, R](piqonr: P => Either[Q, Not[R]], \n",
    "                   ronq: Either[R, Not[Q]], \n",
    "                   nqir: Not[Q] => R, \n",
    "                   rinq: R => Not[Q]): Not[P] =\n",
    "    p => ronq match {\n",
    "        case Left(r) =>\n",
    "            piqonr(p) match {\n",
    "                case Left(q) =>\n",
    "                    rinq(r)(q)\n",
    "                case Right(nr) =>\n",
    "                    nr(r)\n",
    "            }\n",
    "        case Right(nq) =>\n",
    "            piqonr(p) match {\n",
    "                case Left(q) =>\n",
    "                    nq(q)\n",
    "                case Right(nr) =>\n",
    "                    nr(nqir(nq))\n",
    "            }\n",
    "    }"
   ]
  },
  {
   "cell_type": "markdown",
   "metadata": {},
   "source": [
    "$\\vdash (p \\rightarrow q \\wedge r) \\wedge \\neg q \\rightarrow \\neg p$"
   ]
  },
  {
   "cell_type": "code",
   "execution_count": null,
   "metadata": {},
   "outputs": [],
   "source": [
    "def proof[P, Q, R]: ((P => (Q, R), Not[Q])) => Not[P] =\n",
    "    {\n",
    "        case (piqar, nq) =>\n",
    "            p => nq(piqar(p)._1)\n",
    "    }"
   ]
  },
  {
   "cell_type": "markdown",
   "metadata": {},
   "source": [
    "$\\{p \\vee q \\vee r, p \\rightarrow s, \\neg r \\rightarrow \\neg s\\} \\vdash \\neg r \\rightarrow q$"
   ]
  },
  {
   "cell_type": "code",
   "execution_count": null,
   "metadata": {},
   "outputs": [],
   "source": [
    "def proof[P, Q, R, S](poqor: Either[P, Either[Q, R]], pis: P => S, nrims: Not[R] => Not[S]): Not[R] => Q =\n",
    "    poqor match {\n",
    "        case Left(p) =>\n",
    "            nr => nrims(nr)(pis(p))\n",
    "        case Right(Left(q)) =>\n",
    "            nr => q\n",
    "        case Right(Right(r)) =>\n",
    "            nr => nr(r)\n",
    "    }"
   ]
  },
  {
   "cell_type": "markdown",
   "metadata": {},
   "source": [
    "## Ejercicios Tipos Algebraicos Datos"
   ]
  },
  {
   "cell_type": "markdown",
   "metadata": {},
   "source": [
    "Demuestra el siguiente isomorfismo entre tipos algebraicos de datos para todo tipo $A$ y para todo tipo $B$: \n",
    "\n",
    "$(A + B)^2 \\cong A^2 + 2 * A * B + B^2$ \n",
    "\n",
    "de tal forma que se verifique el siguiente test unitario para $A = B = Int$:"
   ]
  },
  {
   "cell_type": "code",
   "execution_count": null,
   "metadata": {},
   "outputs": [],
   "source": [
    "class IsoTest(\n",
    "    from: ((Either[Int, Int], Either[Int, Int])) => \n",
    "            Either[(Int, Int), Either[(Int, Int), Either[(Int, Int), (Int, Int)]]],\n",
    "    to: Either[(Int, Int), Either[(Int, Int), Either[(Int, Int), (Int, Int)]]] => \n",
    "            (Either[Int, Int], Either[Int, Int])\n",
    ") extends FlatSpec with Matchers { \n",
    "    \"from-to\" should \"work\" in {\n",
    "        from(to(Left((1, 1)))) shouldBe Left((1, 1))\n",
    "        from(to(Right(Left((1, 2))))) shouldBe Right(Left((1, 2)))\n",
    "        from(to(Right(Right(Left((1, 2)))))) shouldBe Right(Right(Left((1, 2))))\n",
    "        from(to(Right(Right(Right((2, 2)))))) shouldBe Right(Right(Right((2, 2))))\n",
    "    }\n",
    "    \n",
    "    \"to-from\" should \"work\" in {\n",
    "        to(from((Left(1), Left(1)))) shouldBe (Left(1), Left(1))\n",
    "        to(from((Left(1), Right(2)))) shouldBe (Left(1), Right(2))\n",
    "        to(from((Right(2), Left(1)))) shouldBe (Right(2), Left(1))\n",
    "        to(from((Right(2), Right(2)))) shouldBe (Right(2), Right(2))\n",
    "    }\n",
    "}"
   ]
  },
  {
   "cell_type": "code",
   "execution_count": null,
   "metadata": {},
   "outputs": [],
   "source": [
    "def from[A, B](l: (Either[A, B], Either[A, B])): Either[(A, A), Either[(A, B), Either[(A, B), (B, B)]]] = \n",
    "    l match {\n",
    "        case (Left(a1), Left(a2)) =>\n",
    "            Left((a1, a2))\n",
    "        case (Left(a), Right(b)) =>\n",
    "            Right(Left((a, b)))\n",
    "        case (Right(b), Left(a)) =>\n",
    "            Right(Right(Left(a, b)))\n",
    "        case (Right(b1), Right(b2)) =>\n",
    "            Right(Right(Right((b1, b2))))\n",
    "    }"
   ]
  },
  {
   "cell_type": "code",
   "execution_count": null,
   "metadata": {},
   "outputs": [],
   "source": [
    "def to[A, B](l: Either[(A, A), Either[(A, B), Either[(A, B), (B, B)]]]): (Either[A, B], Either[A, B]) = \n",
    "    l match {\n",
    "        case Left((a1, a2)) =>\n",
    "            (Left(a1), Left(a2))\n",
    "        case Right(Left((a, b))) =>\n",
    "            (Left(a), Right(b))\n",
    "        case Right(Right(Left((a, b)))) =>\n",
    "            (Right(b), Left(a))\n",
    "        case Right(Right(Right((b1, b2)))) =>\n",
    "            (Right(b1), Right(b2))\n",
    "    }"
   ]
  },
  {
   "cell_type": "code",
   "execution_count": null,
   "metadata": {},
   "outputs": [],
   "source": [
    "run(new IsoTest(from, to))"
   ]
  },
  {
   "cell_type": "markdown",
   "metadata": {},
   "source": [
    "Demuestra el siguiente isomorfismo entre tipos algebraicos de datos para todo tipo $X$, para todo tipo $A$ y para todo tipo $B$: \n",
    "\n",
    "$(X + A) * (X + B) \\cong X^2 + (A + B) * X + A * B$ \n",
    "\n",
    "de tal forma que se verifique el siguiente test unitario para $X = A = B = Boolean$:"
   ]
  },
  {
   "cell_type": "code",
   "execution_count": null,
   "metadata": {},
   "outputs": [],
   "source": [
    "class IsoTest(\n",
    "    from: ((Either[Boolean, Boolean], Either[Boolean, Boolean])) => \n",
    "            Either[(Boolean, Boolean), Either[(Boolean, Boolean), Either[(Boolean, Boolean), (Boolean, Boolean)]]],\n",
    "    to: Either[(Boolean, Boolean), Either[(Boolean, Boolean), Either[(Boolean, Boolean), (Boolean, Boolean)]]] => \n",
    "            (Either[Boolean, Boolean], Either[Boolean, Boolean])\n",
    ") extends FlatSpec with Matchers { \n",
    "    \"from-to\" should \"work\" in {\n",
    "        from(to(Left(false, false))) shouldBe Left(false, false)\n",
    "        from(to(Right(Right(Left((false, true)))))) shouldBe Right(Right(Left((false, true))))\n",
    "        from(to(Right(Left((true, false))))) shouldBe Right(Left((true, false)))\n",
    "        from(to(Right(Right(Right((true, true)))))) shouldBe Right(Right(Right((true, true))))\n",
    "    }\n",
    "    \n",
    "    \"to-from\" should \"work\" in {\n",
    "        to(from((Left(false), Left(false)))) shouldBe (Left(false), Left(false))\n",
    "        to(from((Left(true), Right(true)))) shouldBe (Left(true), Right(true))\n",
    "        to(from((Right(false), Left(true)))) shouldBe (Right(false), Left(true))\n",
    "        to(from((Right(true), Right(false)))) shouldBe (Right(true), Right(false))\n",
    "    }\n",
    "}"
   ]
  },
  {
   "cell_type": "code",
   "execution_count": null,
   "metadata": {},
   "outputs": [],
   "source": [
    "def from[X, A, B](l: (Either[X, A], Either[X, B])): Either[(X, X), Either[(A, X), Either[(B, X), (A, B)]]] =\n",
    "    l match {\n",
    "        case (Left(x1), Left(x2)) =>\n",
    "            Left((x1, x2))\n",
    "        case (Left(x), Right(b)) =>\n",
    "            Right(Right(Left((b, x))))\n",
    "        case (Right(a), Left(x)) =>\n",
    "            Right(Left((a, x)))\n",
    "        case (Right(a), Right(b)) =>\n",
    "            Right(Right(Right((a, b))))\n",
    "    }"
   ]
  },
  {
   "cell_type": "code",
   "execution_count": null,
   "metadata": {},
   "outputs": [],
   "source": [
    "def to[X, A, B](l: Either[(X, X), Either[(A, X), Either[(B, X), (A, B)]]]): (Either[X, A], Either[X, B]) =\n",
    "    l match {\n",
    "        case Left((x1, x2)) =>\n",
    "            (Left(x1), Left(x2))\n",
    "        case Right(Right(Left((b, x)))) =>\n",
    "            (Left(x), Right(b))\n",
    "        case Right(Left((a, x))) =>\n",
    "            (Right(a), Left(x))\n",
    "        case Right(Right(Right((a, b)))) =>\n",
    "            (Right(a), Right(b))\n",
    "    }"
   ]
  },
  {
   "cell_type": "code",
   "execution_count": null,
   "metadata": {},
   "outputs": [],
   "source": [
    "run(new IsoTest(from, to))"
   ]
  }
 ],
 "metadata": {
  "kernelspec": {
   "display_name": "Scala",
   "language": "scala",
   "name": "scala"
  },
  "language_info": {
   "codemirror_mode": "text/x-scala",
   "file_extension": ".scala",
   "mimetype": "text/x-scala",
   "name": "scala",
   "nbconvert_exporter": "script",
   "version": "2.12.9"
  }
 },
 "nbformat": 4,
 "nbformat_minor": 4
}
